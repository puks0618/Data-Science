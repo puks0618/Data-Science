{
 "cells": [
  {
   "cell_type": "markdown",
   "id": "awful-audience",
   "metadata": {},
   "source": [
    "# Importing Libraries"
   ]
  },
  {
   "cell_type": "code",
   "execution_count": 271,
   "id": "bridal-momentum",
   "metadata": {},
   "outputs": [],
   "source": [
    "import seaborn as sns\n",
    "import pandas as pd\n",
    "import numpy as np\n",
    "import matplotlib.pyplot as plt"
   ]
  },
  {
   "cell_type": "code",
   "execution_count": 272,
   "id": "material-contribution",
   "metadata": {},
   "outputs": [
    {
     "data": {
      "text/html": [
       "<div>\n",
       "<style scoped>\n",
       "    .dataframe tbody tr th:only-of-type {\n",
       "        vertical-align: middle;\n",
       "    }\n",
       "\n",
       "    .dataframe tbody tr th {\n",
       "        vertical-align: top;\n",
       "    }\n",
       "\n",
       "    .dataframe thead th {\n",
       "        text-align: right;\n",
       "    }\n",
       "</style>\n",
       "<table border=\"1\" class=\"dataframe\">\n",
       "  <thead>\n",
       "    <tr style=\"text-align: right;\">\n",
       "      <th></th>\n",
       "      <th>StationId</th>\n",
       "      <th>Date</th>\n",
       "      <th>PM2.5</th>\n",
       "      <th>PM10</th>\n",
       "      <th>NO</th>\n",
       "      <th>NO2</th>\n",
       "      <th>NOx</th>\n",
       "      <th>NH3</th>\n",
       "      <th>CO</th>\n",
       "      <th>SO2</th>\n",
       "      <th>O3</th>\n",
       "      <th>Benzene</th>\n",
       "      <th>Toluene</th>\n",
       "      <th>Xylene</th>\n",
       "      <th>AQI</th>\n",
       "      <th>AQI_Bucket</th>\n",
       "    </tr>\n",
       "  </thead>\n",
       "  <tbody>\n",
       "    <tr>\n",
       "      <th>0</th>\n",
       "      <td>AP001</td>\n",
       "      <td>2017-11-24</td>\n",
       "      <td>71.36</td>\n",
       "      <td>115.75</td>\n",
       "      <td>1.75</td>\n",
       "      <td>20.65</td>\n",
       "      <td>12.40</td>\n",
       "      <td>12.19</td>\n",
       "      <td>0.10</td>\n",
       "      <td>10.76</td>\n",
       "      <td>109.26</td>\n",
       "      <td>0.17</td>\n",
       "      <td>5.92</td>\n",
       "      <td>0.10</td>\n",
       "      <td>NaN</td>\n",
       "      <td>NaN</td>\n",
       "    </tr>\n",
       "    <tr>\n",
       "      <th>1</th>\n",
       "      <td>AP001</td>\n",
       "      <td>2017-11-25</td>\n",
       "      <td>81.40</td>\n",
       "      <td>124.50</td>\n",
       "      <td>1.44</td>\n",
       "      <td>20.50</td>\n",
       "      <td>12.08</td>\n",
       "      <td>10.72</td>\n",
       "      <td>0.12</td>\n",
       "      <td>15.24</td>\n",
       "      <td>127.09</td>\n",
       "      <td>0.20</td>\n",
       "      <td>6.50</td>\n",
       "      <td>0.06</td>\n",
       "      <td>184.0</td>\n",
       "      <td>Moderate</td>\n",
       "    </tr>\n",
       "    <tr>\n",
       "      <th>2</th>\n",
       "      <td>AP001</td>\n",
       "      <td>2017-11-26</td>\n",
       "      <td>78.32</td>\n",
       "      <td>129.06</td>\n",
       "      <td>1.26</td>\n",
       "      <td>26.00</td>\n",
       "      <td>14.85</td>\n",
       "      <td>10.28</td>\n",
       "      <td>0.14</td>\n",
       "      <td>26.96</td>\n",
       "      <td>117.44</td>\n",
       "      <td>0.22</td>\n",
       "      <td>7.95</td>\n",
       "      <td>0.08</td>\n",
       "      <td>197.0</td>\n",
       "      <td>Moderate</td>\n",
       "    </tr>\n",
       "    <tr>\n",
       "      <th>3</th>\n",
       "      <td>AP001</td>\n",
       "      <td>2017-11-27</td>\n",
       "      <td>88.76</td>\n",
       "      <td>135.32</td>\n",
       "      <td>6.60</td>\n",
       "      <td>30.85</td>\n",
       "      <td>21.77</td>\n",
       "      <td>12.91</td>\n",
       "      <td>0.11</td>\n",
       "      <td>33.59</td>\n",
       "      <td>111.81</td>\n",
       "      <td>0.29</td>\n",
       "      <td>7.63</td>\n",
       "      <td>0.12</td>\n",
       "      <td>198.0</td>\n",
       "      <td>Moderate</td>\n",
       "    </tr>\n",
       "    <tr>\n",
       "      <th>4</th>\n",
       "      <td>AP001</td>\n",
       "      <td>2017-11-28</td>\n",
       "      <td>64.18</td>\n",
       "      <td>104.09</td>\n",
       "      <td>2.56</td>\n",
       "      <td>28.07</td>\n",
       "      <td>17.01</td>\n",
       "      <td>11.42</td>\n",
       "      <td>0.09</td>\n",
       "      <td>19.00</td>\n",
       "      <td>138.18</td>\n",
       "      <td>0.17</td>\n",
       "      <td>5.02</td>\n",
       "      <td>0.07</td>\n",
       "      <td>188.0</td>\n",
       "      <td>Moderate</td>\n",
       "    </tr>\n",
       "  </tbody>\n",
       "</table>\n",
       "</div>"
      ],
      "text/plain": [
       "  StationId        Date  PM2.5    PM10    NO    NO2    NOx    NH3    CO  \\\n",
       "0     AP001  2017-11-24  71.36  115.75  1.75  20.65  12.40  12.19  0.10   \n",
       "1     AP001  2017-11-25  81.40  124.50  1.44  20.50  12.08  10.72  0.12   \n",
       "2     AP001  2017-11-26  78.32  129.06  1.26  26.00  14.85  10.28  0.14   \n",
       "3     AP001  2017-11-27  88.76  135.32  6.60  30.85  21.77  12.91  0.11   \n",
       "4     AP001  2017-11-28  64.18  104.09  2.56  28.07  17.01  11.42  0.09   \n",
       "\n",
       "     SO2      O3  Benzene  Toluene  Xylene    AQI AQI_Bucket  \n",
       "0  10.76  109.26     0.17     5.92    0.10    NaN        NaN  \n",
       "1  15.24  127.09     0.20     6.50    0.06  184.0   Moderate  \n",
       "2  26.96  117.44     0.22     7.95    0.08  197.0   Moderate  \n",
       "3  33.59  111.81     0.29     7.63    0.12  198.0   Moderate  \n",
       "4  19.00  138.18     0.17     5.02    0.07  188.0   Moderate  "
      ]
     },
     "execution_count": 272,
     "metadata": {},
     "output_type": "execute_result"
    }
   ],
   "source": [
    "data = pd.read_csv(\"station_day.csv\")\n",
    "\n",
    "data.head() "
   ]
  },
  {
   "cell_type": "code",
   "execution_count": 273,
   "id": "reserved-wheel",
   "metadata": {},
   "outputs": [
    {
     "data": {
      "text/plain": [
       "['StationId',\n",
       " 'Date',\n",
       " 'PM2.5',\n",
       " 'PM10',\n",
       " 'NO',\n",
       " 'NO2',\n",
       " 'NOx',\n",
       " 'NH3',\n",
       " 'CO',\n",
       " 'SO2',\n",
       " 'O3',\n",
       " 'Benzene',\n",
       " 'Toluene',\n",
       " 'Xylene',\n",
       " 'AQI',\n",
       " 'AQI_Bucket']"
      ]
     },
     "execution_count": 273,
     "metadata": {},
     "output_type": "execute_result"
    }
   ],
   "source": [
    "list(data.columns)"
   ]
  },
  {
   "cell_type": "code",
   "execution_count": 274,
   "id": "square-mainland",
   "metadata": {},
   "outputs": [
    {
     "data": {
      "text/html": [
       "<div>\n",
       "<style scoped>\n",
       "    .dataframe tbody tr th:only-of-type {\n",
       "        vertical-align: middle;\n",
       "    }\n",
       "\n",
       "    .dataframe tbody tr th {\n",
       "        vertical-align: top;\n",
       "    }\n",
       "\n",
       "    .dataframe thead th {\n",
       "        text-align: right;\n",
       "    }\n",
       "</style>\n",
       "<table border=\"1\" class=\"dataframe\">\n",
       "  <thead>\n",
       "    <tr style=\"text-align: right;\">\n",
       "      <th></th>\n",
       "      <th>PM2.5</th>\n",
       "      <th>PM10</th>\n",
       "      <th>NO</th>\n",
       "      <th>NO2</th>\n",
       "      <th>NOx</th>\n",
       "      <th>NH3</th>\n",
       "      <th>CO</th>\n",
       "      <th>SO2</th>\n",
       "      <th>O3</th>\n",
       "      <th>Benzene</th>\n",
       "      <th>Toluene</th>\n",
       "      <th>Xylene</th>\n",
       "      <th>AQI</th>\n",
       "    </tr>\n",
       "  </thead>\n",
       "  <tbody>\n",
       "    <tr>\n",
       "      <th>count</th>\n",
       "      <td>86410.000000</td>\n",
       "      <td>65329.000000</td>\n",
       "      <td>90929.000000</td>\n",
       "      <td>91488.000000</td>\n",
       "      <td>92535.000000</td>\n",
       "      <td>59930.000000</td>\n",
       "      <td>95037.000000</td>\n",
       "      <td>82831.000000</td>\n",
       "      <td>82467.000000</td>\n",
       "      <td>76580.000000</td>\n",
       "      <td>69333.000000</td>\n",
       "      <td>22898.000000</td>\n",
       "      <td>87025.000000</td>\n",
       "    </tr>\n",
       "    <tr>\n",
       "      <th>mean</th>\n",
       "      <td>80.272571</td>\n",
       "      <td>157.968427</td>\n",
       "      <td>23.123424</td>\n",
       "      <td>35.240760</td>\n",
       "      <td>41.195055</td>\n",
       "      <td>28.732875</td>\n",
       "      <td>1.605749</td>\n",
       "      <td>12.257634</td>\n",
       "      <td>38.134836</td>\n",
       "      <td>3.358029</td>\n",
       "      <td>15.345394</td>\n",
       "      <td>2.423446</td>\n",
       "      <td>179.749290</td>\n",
       "    </tr>\n",
       "    <tr>\n",
       "      <th>std</th>\n",
       "      <td>76.526403</td>\n",
       "      <td>123.418672</td>\n",
       "      <td>34.491019</td>\n",
       "      <td>29.510827</td>\n",
       "      <td>45.145976</td>\n",
       "      <td>24.897797</td>\n",
       "      <td>4.369578</td>\n",
       "      <td>12.984723</td>\n",
       "      <td>39.128004</td>\n",
       "      <td>11.156234</td>\n",
       "      <td>29.348587</td>\n",
       "      <td>6.472409</td>\n",
       "      <td>131.324339</td>\n",
       "    </tr>\n",
       "    <tr>\n",
       "      <th>min</th>\n",
       "      <td>0.020000</td>\n",
       "      <td>0.010000</td>\n",
       "      <td>0.010000</td>\n",
       "      <td>0.010000</td>\n",
       "      <td>0.000000</td>\n",
       "      <td>0.010000</td>\n",
       "      <td>0.000000</td>\n",
       "      <td>0.010000</td>\n",
       "      <td>0.010000</td>\n",
       "      <td>0.000000</td>\n",
       "      <td>0.000000</td>\n",
       "      <td>0.000000</td>\n",
       "      <td>8.000000</td>\n",
       "    </tr>\n",
       "    <tr>\n",
       "      <th>25%</th>\n",
       "      <td>31.880000</td>\n",
       "      <td>70.150000</td>\n",
       "      <td>4.840000</td>\n",
       "      <td>15.090000</td>\n",
       "      <td>13.970000</td>\n",
       "      <td>11.900000</td>\n",
       "      <td>0.530000</td>\n",
       "      <td>5.040000</td>\n",
       "      <td>18.895000</td>\n",
       "      <td>0.160000</td>\n",
       "      <td>0.690000</td>\n",
       "      <td>0.000000</td>\n",
       "      <td>86.000000</td>\n",
       "    </tr>\n",
       "    <tr>\n",
       "      <th>50%</th>\n",
       "      <td>55.950000</td>\n",
       "      <td>122.090000</td>\n",
       "      <td>10.290000</td>\n",
       "      <td>27.210000</td>\n",
       "      <td>26.660000</td>\n",
       "      <td>23.590000</td>\n",
       "      <td>0.910000</td>\n",
       "      <td>8.950000</td>\n",
       "      <td>30.840000</td>\n",
       "      <td>1.210000</td>\n",
       "      <td>4.330000</td>\n",
       "      <td>0.400000</td>\n",
       "      <td>132.000000</td>\n",
       "    </tr>\n",
       "    <tr>\n",
       "      <th>75%</th>\n",
       "      <td>99.920000</td>\n",
       "      <td>208.670000</td>\n",
       "      <td>24.980000</td>\n",
       "      <td>46.930000</td>\n",
       "      <td>50.500000</td>\n",
       "      <td>38.137500</td>\n",
       "      <td>1.450000</td>\n",
       "      <td>14.920000</td>\n",
       "      <td>47.140000</td>\n",
       "      <td>3.610000</td>\n",
       "      <td>17.510000</td>\n",
       "      <td>2.110000</td>\n",
       "      <td>254.000000</td>\n",
       "    </tr>\n",
       "    <tr>\n",
       "      <th>max</th>\n",
       "      <td>1000.000000</td>\n",
       "      <td>1000.000000</td>\n",
       "      <td>470.000000</td>\n",
       "      <td>448.050000</td>\n",
       "      <td>467.630000</td>\n",
       "      <td>418.900000</td>\n",
       "      <td>175.810000</td>\n",
       "      <td>195.650000</td>\n",
       "      <td>963.000000</td>\n",
       "      <td>455.030000</td>\n",
       "      <td>454.850000</td>\n",
       "      <td>170.370000</td>\n",
       "      <td>2049.000000</td>\n",
       "    </tr>\n",
       "  </tbody>\n",
       "</table>\n",
       "</div>"
      ],
      "text/plain": [
       "              PM2.5          PM10            NO           NO2           NOx  \\\n",
       "count  86410.000000  65329.000000  90929.000000  91488.000000  92535.000000   \n",
       "mean      80.272571    157.968427     23.123424     35.240760     41.195055   \n",
       "std       76.526403    123.418672     34.491019     29.510827     45.145976   \n",
       "min        0.020000      0.010000      0.010000      0.010000      0.000000   \n",
       "25%       31.880000     70.150000      4.840000     15.090000     13.970000   \n",
       "50%       55.950000    122.090000     10.290000     27.210000     26.660000   \n",
       "75%       99.920000    208.670000     24.980000     46.930000     50.500000   \n",
       "max     1000.000000   1000.000000    470.000000    448.050000    467.630000   \n",
       "\n",
       "                NH3            CO           SO2            O3       Benzene  \\\n",
       "count  59930.000000  95037.000000  82831.000000  82467.000000  76580.000000   \n",
       "mean      28.732875      1.605749     12.257634     38.134836      3.358029   \n",
       "std       24.897797      4.369578     12.984723     39.128004     11.156234   \n",
       "min        0.010000      0.000000      0.010000      0.010000      0.000000   \n",
       "25%       11.900000      0.530000      5.040000     18.895000      0.160000   \n",
       "50%       23.590000      0.910000      8.950000     30.840000      1.210000   \n",
       "75%       38.137500      1.450000     14.920000     47.140000      3.610000   \n",
       "max      418.900000    175.810000    195.650000    963.000000    455.030000   \n",
       "\n",
       "            Toluene        Xylene           AQI  \n",
       "count  69333.000000  22898.000000  87025.000000  \n",
       "mean      15.345394      2.423446    179.749290  \n",
       "std       29.348587      6.472409    131.324339  \n",
       "min        0.000000      0.000000      8.000000  \n",
       "25%        0.690000      0.000000     86.000000  \n",
       "50%        4.330000      0.400000    132.000000  \n",
       "75%       17.510000      2.110000    254.000000  \n",
       "max      454.850000    170.370000   2049.000000  "
      ]
     },
     "execution_count": 274,
     "metadata": {},
     "output_type": "execute_result"
    }
   ],
   "source": [
    "data.describe()"
   ]
  },
  {
   "cell_type": "markdown",
   "id": "blank-eating",
   "metadata": {},
   "source": [
    "# Handling Missing Data"
   ]
  },
  {
   "cell_type": "code",
   "execution_count": 275,
   "id": "natural-experience",
   "metadata": {},
   "outputs": [],
   "source": [
    "data[\"PM2.5\"]=data[\"PM2.5\"].replace(np.NAN,data[\"PM2.5\"].mean())\n",
    "data[\"PM10\"]=data[\"PM10\"].replace(np.NAN,data[\"PM10\"].mean())\n",
    "data[\"NO\"]=data[\"NO\"].replace(np.NAN,data[\"NO\"].mean())\n",
    "data[\"NO2\"]=data[\"NO2\"].replace(np.NAN,data[\"NO2\"].mean())\n",
    "data[\"NOx\"]=data[\"NOx\"].replace(np.NAN,data[\"NOx\"].mean())\n",
    "data[\"NH3\"]=data[\"NH3\"].replace(np.NAN,data[\"NH3\"].mean())\n",
    "data[\"CO\"]=data[\"CO\"].replace(np.NAN,data[\"CO\"].mean())\n",
    "data[\"SO2\"]=data[\"SO2\"].replace(np.NAN,data[\"SO2\"].mean())\n",
    "data[\"O3\"]=data[\"O3\"].replace(np.NAN,data[\"O3\"].mean())\n",
    "data[\"Benzene\"]=data[\"Benzene\"].replace(np.NAN,data[\"Benzene\"].mean())\n",
    "data[\"Toluene\"]=data[\"Toluene\"].replace(np.NAN,data[\"Toluene\"].mean())\n",
    "data[\"Xylene\"]=data[\"Xylene\"].replace(np.NAN,data[\"Xylene\"].mean())\n",
    "data[\"AQI\"]=data[\"AQI\"].replace(np.NAN,data[\"AQI\"].mean())\n"
   ]
  },
  {
   "cell_type": "code",
   "execution_count": 276,
   "id": "smoking-trading",
   "metadata": {},
   "outputs": [
    {
     "data": {
      "text/html": [
       "<div>\n",
       "<style scoped>\n",
       "    .dataframe tbody tr th:only-of-type {\n",
       "        vertical-align: middle;\n",
       "    }\n",
       "\n",
       "    .dataframe tbody tr th {\n",
       "        vertical-align: top;\n",
       "    }\n",
       "\n",
       "    .dataframe thead th {\n",
       "        text-align: right;\n",
       "    }\n",
       "</style>\n",
       "<table border=\"1\" class=\"dataframe\">\n",
       "  <thead>\n",
       "    <tr style=\"text-align: right;\">\n",
       "      <th></th>\n",
       "      <th>PM2.5</th>\n",
       "      <th>PM10</th>\n",
       "      <th>NO</th>\n",
       "      <th>NO2</th>\n",
       "      <th>NOx</th>\n",
       "      <th>NH3</th>\n",
       "      <th>CO</th>\n",
       "      <th>SO2</th>\n",
       "      <th>O3</th>\n",
       "      <th>Benzene</th>\n",
       "      <th>Toluene</th>\n",
       "      <th>Xylene</th>\n",
       "      <th>AQI</th>\n",
       "    </tr>\n",
       "  </thead>\n",
       "  <tbody>\n",
       "    <tr>\n",
       "      <th>count</th>\n",
       "      <td>108035.000000</td>\n",
       "      <td>108035.000000</td>\n",
       "      <td>108035.000000</td>\n",
       "      <td>108035.000000</td>\n",
       "      <td>108035.000000</td>\n",
       "      <td>108035.000000</td>\n",
       "      <td>108035.000000</td>\n",
       "      <td>108035.000000</td>\n",
       "      <td>108035.000000</td>\n",
       "      <td>108035.000000</td>\n",
       "      <td>108035.000000</td>\n",
       "      <td>108035.000000</td>\n",
       "      <td>108035.000000</td>\n",
       "    </tr>\n",
       "    <tr>\n",
       "      <th>mean</th>\n",
       "      <td>80.272571</td>\n",
       "      <td>157.968427</td>\n",
       "      <td>23.123424</td>\n",
       "      <td>35.240760</td>\n",
       "      <td>41.195055</td>\n",
       "      <td>28.732875</td>\n",
       "      <td>1.605749</td>\n",
       "      <td>12.257634</td>\n",
       "      <td>38.134836</td>\n",
       "      <td>3.358029</td>\n",
       "      <td>15.345394</td>\n",
       "      <td>2.423446</td>\n",
       "      <td>179.749290</td>\n",
       "    </tr>\n",
       "    <tr>\n",
       "      <th>std</th>\n",
       "      <td>68.440088</td>\n",
       "      <td>95.973276</td>\n",
       "      <td>31.642778</td>\n",
       "      <td>27.156941</td>\n",
       "      <td>41.782025</td>\n",
       "      <td>18.543820</td>\n",
       "      <td>4.098296</td>\n",
       "      <td>11.369629</td>\n",
       "      <td>34.185736</td>\n",
       "      <td>9.392739</td>\n",
       "      <td>23.511148</td>\n",
       "      <td>2.979717</td>\n",
       "      <td>117.864906</td>\n",
       "    </tr>\n",
       "    <tr>\n",
       "      <th>min</th>\n",
       "      <td>0.020000</td>\n",
       "      <td>0.010000</td>\n",
       "      <td>0.010000</td>\n",
       "      <td>0.010000</td>\n",
       "      <td>0.000000</td>\n",
       "      <td>0.010000</td>\n",
       "      <td>0.000000</td>\n",
       "      <td>0.010000</td>\n",
       "      <td>0.010000</td>\n",
       "      <td>0.000000</td>\n",
       "      <td>0.000000</td>\n",
       "      <td>0.000000</td>\n",
       "      <td>8.000000</td>\n",
       "    </tr>\n",
       "    <tr>\n",
       "      <th>25%</th>\n",
       "      <td>37.430000</td>\n",
       "      <td>102.620000</td>\n",
       "      <td>5.770000</td>\n",
       "      <td>17.100000</td>\n",
       "      <td>15.940000</td>\n",
       "      <td>21.260000</td>\n",
       "      <td>0.590000</td>\n",
       "      <td>6.160000</td>\n",
       "      <td>22.580000</td>\n",
       "      <td>0.440000</td>\n",
       "      <td>2.130000</td>\n",
       "      <td>2.423446</td>\n",
       "      <td>96.000000</td>\n",
       "    </tr>\n",
       "    <tr>\n",
       "      <th>50%</th>\n",
       "      <td>72.430000</td>\n",
       "      <td>157.968427</td>\n",
       "      <td>13.740000</td>\n",
       "      <td>32.800000</td>\n",
       "      <td>32.620000</td>\n",
       "      <td>28.732875</td>\n",
       "      <td>1.030000</td>\n",
       "      <td>12.030000</td>\n",
       "      <td>38.134836</td>\n",
       "      <td>3.000000</td>\n",
       "      <td>15.345394</td>\n",
       "      <td>2.423446</td>\n",
       "      <td>174.000000</td>\n",
       "    </tr>\n",
       "    <tr>\n",
       "      <th>75%</th>\n",
       "      <td>83.795000</td>\n",
       "      <td>157.968427</td>\n",
       "      <td>23.123424</td>\n",
       "      <td>42.240000</td>\n",
       "      <td>45.040000</td>\n",
       "      <td>28.732875</td>\n",
       "      <td>1.605749</td>\n",
       "      <td>12.570000</td>\n",
       "      <td>41.020000</td>\n",
       "      <td>3.358029</td>\n",
       "      <td>15.345394</td>\n",
       "      <td>2.423446</td>\n",
       "      <td>211.000000</td>\n",
       "    </tr>\n",
       "    <tr>\n",
       "      <th>max</th>\n",
       "      <td>1000.000000</td>\n",
       "      <td>1000.000000</td>\n",
       "      <td>470.000000</td>\n",
       "      <td>448.050000</td>\n",
       "      <td>467.630000</td>\n",
       "      <td>418.900000</td>\n",
       "      <td>175.810000</td>\n",
       "      <td>195.650000</td>\n",
       "      <td>963.000000</td>\n",
       "      <td>455.030000</td>\n",
       "      <td>454.850000</td>\n",
       "      <td>170.370000</td>\n",
       "      <td>2049.000000</td>\n",
       "    </tr>\n",
       "  </tbody>\n",
       "</table>\n",
       "</div>"
      ],
      "text/plain": [
       "               PM2.5           PM10             NO            NO2  \\\n",
       "count  108035.000000  108035.000000  108035.000000  108035.000000   \n",
       "mean       80.272571     157.968427      23.123424      35.240760   \n",
       "std        68.440088      95.973276      31.642778      27.156941   \n",
       "min         0.020000       0.010000       0.010000       0.010000   \n",
       "25%        37.430000     102.620000       5.770000      17.100000   \n",
       "50%        72.430000     157.968427      13.740000      32.800000   \n",
       "75%        83.795000     157.968427      23.123424      42.240000   \n",
       "max      1000.000000    1000.000000     470.000000     448.050000   \n",
       "\n",
       "                 NOx            NH3             CO            SO2  \\\n",
       "count  108035.000000  108035.000000  108035.000000  108035.000000   \n",
       "mean       41.195055      28.732875       1.605749      12.257634   \n",
       "std        41.782025      18.543820       4.098296      11.369629   \n",
       "min         0.000000       0.010000       0.000000       0.010000   \n",
       "25%        15.940000      21.260000       0.590000       6.160000   \n",
       "50%        32.620000      28.732875       1.030000      12.030000   \n",
       "75%        45.040000      28.732875       1.605749      12.570000   \n",
       "max       467.630000     418.900000     175.810000     195.650000   \n",
       "\n",
       "                  O3        Benzene        Toluene         Xylene  \\\n",
       "count  108035.000000  108035.000000  108035.000000  108035.000000   \n",
       "mean       38.134836       3.358029      15.345394       2.423446   \n",
       "std        34.185736       9.392739      23.511148       2.979717   \n",
       "min         0.010000       0.000000       0.000000       0.000000   \n",
       "25%        22.580000       0.440000       2.130000       2.423446   \n",
       "50%        38.134836       3.000000      15.345394       2.423446   \n",
       "75%        41.020000       3.358029      15.345394       2.423446   \n",
       "max       963.000000     455.030000     454.850000     170.370000   \n",
       "\n",
       "                 AQI  \n",
       "count  108035.000000  \n",
       "mean      179.749290  \n",
       "std       117.864906  \n",
       "min         8.000000  \n",
       "25%        96.000000  \n",
       "50%       174.000000  \n",
       "75%       211.000000  \n",
       "max      2049.000000  "
      ]
     },
     "execution_count": 276,
     "metadata": {},
     "output_type": "execute_result"
    }
   ],
   "source": [
    "data.describe()"
   ]
  },
  {
   "cell_type": "code",
   "execution_count": 277,
   "id": "stock-upset",
   "metadata": {},
   "outputs": [],
   "source": [
    "data=data.drop(columns=[\"AQI\"])"
   ]
  },
  {
   "cell_type": "code",
   "execution_count": 278,
   "id": "monetary-recipe",
   "metadata": {},
   "outputs": [],
   "source": [
    "#data[\"PM10\"]=data[\"PM10\"].replace(np.NAN,data[\"PM10\"].mean())"
   ]
  },
  {
   "cell_type": "code",
   "execution_count": 279,
   "id": "thrown-explosion",
   "metadata": {},
   "outputs": [],
   "source": [
    "#list(data.columns)"
   ]
  },
  {
   "cell_type": "code",
   "execution_count": 280,
   "id": "mexican-absence",
   "metadata": {},
   "outputs": [],
   "source": [
    "data=data.set_index('Date')"
   ]
  },
  {
   "cell_type": "code",
   "execution_count": 281,
   "id": "married-request",
   "metadata": {},
   "outputs": [
    {
     "data": {
      "text/html": [
       "<div>\n",
       "<style scoped>\n",
       "    .dataframe tbody tr th:only-of-type {\n",
       "        vertical-align: middle;\n",
       "    }\n",
       "\n",
       "    .dataframe tbody tr th {\n",
       "        vertical-align: top;\n",
       "    }\n",
       "\n",
       "    .dataframe thead th {\n",
       "        text-align: right;\n",
       "    }\n",
       "</style>\n",
       "<table border=\"1\" class=\"dataframe\">\n",
       "  <thead>\n",
       "    <tr style=\"text-align: right;\">\n",
       "      <th></th>\n",
       "      <th>StationId</th>\n",
       "      <th>PM2.5</th>\n",
       "      <th>PM10</th>\n",
       "      <th>NO</th>\n",
       "      <th>NO2</th>\n",
       "      <th>NOx</th>\n",
       "      <th>NH3</th>\n",
       "      <th>CO</th>\n",
       "      <th>SO2</th>\n",
       "      <th>O3</th>\n",
       "      <th>Benzene</th>\n",
       "      <th>Toluene</th>\n",
       "      <th>Xylene</th>\n",
       "      <th>AQI_Bucket</th>\n",
       "    </tr>\n",
       "    <tr>\n",
       "      <th>Date</th>\n",
       "      <th></th>\n",
       "      <th></th>\n",
       "      <th></th>\n",
       "      <th></th>\n",
       "      <th></th>\n",
       "      <th></th>\n",
       "      <th></th>\n",
       "      <th></th>\n",
       "      <th></th>\n",
       "      <th></th>\n",
       "      <th></th>\n",
       "      <th></th>\n",
       "      <th></th>\n",
       "      <th></th>\n",
       "    </tr>\n",
       "  </thead>\n",
       "  <tbody>\n",
       "    <tr>\n",
       "      <th>2017-11-24</th>\n",
       "      <td>AP001</td>\n",
       "      <td>71.36</td>\n",
       "      <td>115.75</td>\n",
       "      <td>1.750000</td>\n",
       "      <td>20.65000</td>\n",
       "      <td>12.400000</td>\n",
       "      <td>12.190000</td>\n",
       "      <td>0.10</td>\n",
       "      <td>10.76</td>\n",
       "      <td>109.26</td>\n",
       "      <td>0.17</td>\n",
       "      <td>5.92</td>\n",
       "      <td>0.100000</td>\n",
       "      <td>NaN</td>\n",
       "    </tr>\n",
       "    <tr>\n",
       "      <th>2017-11-25</th>\n",
       "      <td>AP001</td>\n",
       "      <td>81.40</td>\n",
       "      <td>124.50</td>\n",
       "      <td>1.440000</td>\n",
       "      <td>20.50000</td>\n",
       "      <td>12.080000</td>\n",
       "      <td>10.720000</td>\n",
       "      <td>0.12</td>\n",
       "      <td>15.24</td>\n",
       "      <td>127.09</td>\n",
       "      <td>0.20</td>\n",
       "      <td>6.50</td>\n",
       "      <td>0.060000</td>\n",
       "      <td>Moderate</td>\n",
       "    </tr>\n",
       "    <tr>\n",
       "      <th>2017-11-26</th>\n",
       "      <td>AP001</td>\n",
       "      <td>78.32</td>\n",
       "      <td>129.06</td>\n",
       "      <td>1.260000</td>\n",
       "      <td>26.00000</td>\n",
       "      <td>14.850000</td>\n",
       "      <td>10.280000</td>\n",
       "      <td>0.14</td>\n",
       "      <td>26.96</td>\n",
       "      <td>117.44</td>\n",
       "      <td>0.22</td>\n",
       "      <td>7.95</td>\n",
       "      <td>0.080000</td>\n",
       "      <td>Moderate</td>\n",
       "    </tr>\n",
       "    <tr>\n",
       "      <th>2017-11-27</th>\n",
       "      <td>AP001</td>\n",
       "      <td>88.76</td>\n",
       "      <td>135.32</td>\n",
       "      <td>6.600000</td>\n",
       "      <td>30.85000</td>\n",
       "      <td>21.770000</td>\n",
       "      <td>12.910000</td>\n",
       "      <td>0.11</td>\n",
       "      <td>33.59</td>\n",
       "      <td>111.81</td>\n",
       "      <td>0.29</td>\n",
       "      <td>7.63</td>\n",
       "      <td>0.120000</td>\n",
       "      <td>Moderate</td>\n",
       "    </tr>\n",
       "    <tr>\n",
       "      <th>2017-11-28</th>\n",
       "      <td>AP001</td>\n",
       "      <td>64.18</td>\n",
       "      <td>104.09</td>\n",
       "      <td>2.560000</td>\n",
       "      <td>28.07000</td>\n",
       "      <td>17.010000</td>\n",
       "      <td>11.420000</td>\n",
       "      <td>0.09</td>\n",
       "      <td>19.00</td>\n",
       "      <td>138.18</td>\n",
       "      <td>0.17</td>\n",
       "      <td>5.02</td>\n",
       "      <td>0.070000</td>\n",
       "      <td>Moderate</td>\n",
       "    </tr>\n",
       "    <tr>\n",
       "      <th>...</th>\n",
       "      <td>...</td>\n",
       "      <td>...</td>\n",
       "      <td>...</td>\n",
       "      <td>...</td>\n",
       "      <td>...</td>\n",
       "      <td>...</td>\n",
       "      <td>...</td>\n",
       "      <td>...</td>\n",
       "      <td>...</td>\n",
       "      <td>...</td>\n",
       "      <td>...</td>\n",
       "      <td>...</td>\n",
       "      <td>...</td>\n",
       "      <td>...</td>\n",
       "    </tr>\n",
       "    <tr>\n",
       "      <th>2020-06-27</th>\n",
       "      <td>WB013</td>\n",
       "      <td>8.65</td>\n",
       "      <td>16.46</td>\n",
       "      <td>23.123424</td>\n",
       "      <td>35.24076</td>\n",
       "      <td>41.195055</td>\n",
       "      <td>28.732875</td>\n",
       "      <td>0.69</td>\n",
       "      <td>4.36</td>\n",
       "      <td>30.59</td>\n",
       "      <td>1.32</td>\n",
       "      <td>7.26</td>\n",
       "      <td>2.423446</td>\n",
       "      <td>Good</td>\n",
       "    </tr>\n",
       "    <tr>\n",
       "      <th>2020-06-28</th>\n",
       "      <td>WB013</td>\n",
       "      <td>11.80</td>\n",
       "      <td>18.47</td>\n",
       "      <td>23.123424</td>\n",
       "      <td>35.24076</td>\n",
       "      <td>41.195055</td>\n",
       "      <td>28.732875</td>\n",
       "      <td>0.68</td>\n",
       "      <td>3.49</td>\n",
       "      <td>38.95</td>\n",
       "      <td>1.42</td>\n",
       "      <td>7.92</td>\n",
       "      <td>2.423446</td>\n",
       "      <td>Satisfactory</td>\n",
       "    </tr>\n",
       "    <tr>\n",
       "      <th>2020-06-29</th>\n",
       "      <td>WB013</td>\n",
       "      <td>18.60</td>\n",
       "      <td>32.26</td>\n",
       "      <td>13.650000</td>\n",
       "      <td>200.87000</td>\n",
       "      <td>214.200000</td>\n",
       "      <td>11.400000</td>\n",
       "      <td>0.78</td>\n",
       "      <td>5.12</td>\n",
       "      <td>38.17</td>\n",
       "      <td>3.52</td>\n",
       "      <td>8.64</td>\n",
       "      <td>2.423446</td>\n",
       "      <td>Satisfactory</td>\n",
       "    </tr>\n",
       "    <tr>\n",
       "      <th>2020-06-30</th>\n",
       "      <td>WB013</td>\n",
       "      <td>16.07</td>\n",
       "      <td>39.30</td>\n",
       "      <td>7.560000</td>\n",
       "      <td>29.13000</td>\n",
       "      <td>36.690000</td>\n",
       "      <td>29.260000</td>\n",
       "      <td>0.69</td>\n",
       "      <td>5.88</td>\n",
       "      <td>29.64</td>\n",
       "      <td>1.86</td>\n",
       "      <td>8.40</td>\n",
       "      <td>2.423446</td>\n",
       "      <td>Satisfactory</td>\n",
       "    </tr>\n",
       "    <tr>\n",
       "      <th>2020-07-01</th>\n",
       "      <td>WB013</td>\n",
       "      <td>10.50</td>\n",
       "      <td>36.50</td>\n",
       "      <td>7.780000</td>\n",
       "      <td>22.50000</td>\n",
       "      <td>30.250000</td>\n",
       "      <td>27.230000</td>\n",
       "      <td>0.58</td>\n",
       "      <td>2.80</td>\n",
       "      <td>13.10</td>\n",
       "      <td>1.31</td>\n",
       "      <td>7.39</td>\n",
       "      <td>2.423446</td>\n",
       "      <td>Satisfactory</td>\n",
       "    </tr>\n",
       "  </tbody>\n",
       "</table>\n",
       "<p>108035 rows × 14 columns</p>\n",
       "</div>"
      ],
      "text/plain": [
       "           StationId  PM2.5    PM10         NO        NO2         NOx  \\\n",
       "Date                                                                    \n",
       "2017-11-24     AP001  71.36  115.75   1.750000   20.65000   12.400000   \n",
       "2017-11-25     AP001  81.40  124.50   1.440000   20.50000   12.080000   \n",
       "2017-11-26     AP001  78.32  129.06   1.260000   26.00000   14.850000   \n",
       "2017-11-27     AP001  88.76  135.32   6.600000   30.85000   21.770000   \n",
       "2017-11-28     AP001  64.18  104.09   2.560000   28.07000   17.010000   \n",
       "...              ...    ...     ...        ...        ...         ...   \n",
       "2020-06-27     WB013   8.65   16.46  23.123424   35.24076   41.195055   \n",
       "2020-06-28     WB013  11.80   18.47  23.123424   35.24076   41.195055   \n",
       "2020-06-29     WB013  18.60   32.26  13.650000  200.87000  214.200000   \n",
       "2020-06-30     WB013  16.07   39.30   7.560000   29.13000   36.690000   \n",
       "2020-07-01     WB013  10.50   36.50   7.780000   22.50000   30.250000   \n",
       "\n",
       "                  NH3    CO    SO2      O3  Benzene  Toluene    Xylene  \\\n",
       "Date                                                                     \n",
       "2017-11-24  12.190000  0.10  10.76  109.26     0.17     5.92  0.100000   \n",
       "2017-11-25  10.720000  0.12  15.24  127.09     0.20     6.50  0.060000   \n",
       "2017-11-26  10.280000  0.14  26.96  117.44     0.22     7.95  0.080000   \n",
       "2017-11-27  12.910000  0.11  33.59  111.81     0.29     7.63  0.120000   \n",
       "2017-11-28  11.420000  0.09  19.00  138.18     0.17     5.02  0.070000   \n",
       "...               ...   ...    ...     ...      ...      ...       ...   \n",
       "2020-06-27  28.732875  0.69   4.36   30.59     1.32     7.26  2.423446   \n",
       "2020-06-28  28.732875  0.68   3.49   38.95     1.42     7.92  2.423446   \n",
       "2020-06-29  11.400000  0.78   5.12   38.17     3.52     8.64  2.423446   \n",
       "2020-06-30  29.260000  0.69   5.88   29.64     1.86     8.40  2.423446   \n",
       "2020-07-01  27.230000  0.58   2.80   13.10     1.31     7.39  2.423446   \n",
       "\n",
       "              AQI_Bucket  \n",
       "Date                      \n",
       "2017-11-24           NaN  \n",
       "2017-11-25      Moderate  \n",
       "2017-11-26      Moderate  \n",
       "2017-11-27      Moderate  \n",
       "2017-11-28      Moderate  \n",
       "...                  ...  \n",
       "2020-06-27          Good  \n",
       "2020-06-28  Satisfactory  \n",
       "2020-06-29  Satisfactory  \n",
       "2020-06-30  Satisfactory  \n",
       "2020-07-01  Satisfactory  \n",
       "\n",
       "[108035 rows x 14 columns]"
      ]
     },
     "execution_count": 281,
     "metadata": {},
     "output_type": "execute_result"
    }
   ],
   "source": [
    "data"
   ]
  },
  {
   "cell_type": "code",
   "execution_count": 282,
   "id": "precise-machinery",
   "metadata": {},
   "outputs": [],
   "source": [
    "#for i in IntList.columns:\n",
    " #   IntList[i]=IntList[i].replace(np.NAN,IntList[i].mean())\n",
    "    "
   ]
  },
  {
   "cell_type": "code",
   "execution_count": 283,
   "id": "confident-hearing",
   "metadata": {},
   "outputs": [],
   "source": [
    "X = data.iloc[:, :-1].values\n",
    "y = data[\"AQI_Bucket\"].values\n"
   ]
  },
  {
   "cell_type": "code",
   "execution_count": 284,
   "id": "twelve-right",
   "metadata": {},
   "outputs": [],
   "source": [
    "from sklearn.preprocessing import LabelEncoder\n",
    "s=LabelEncoder()\n",
    "X[:,0] = s.fit_transform(X[:,0])"
   ]
  },
  {
   "cell_type": "code",
   "execution_count": 285,
   "id": "false-consortium",
   "metadata": {},
   "outputs": [
    {
     "data": {
      "text/plain": [
       "array([[0, 71.36, 115.75, ..., 0.17, 5.92, 0.1],\n",
       "       [0, 81.4, 124.5, ..., 0.2, 6.5, 0.06],\n",
       "       [0, 78.32, 129.06, ..., 0.22, 7.95, 0.08],\n",
       "       ...,\n",
       "       [109, 18.6, 32.26, ..., 3.52, 8.64, 2.4234461525024016],\n",
       "       [109, 16.07, 39.3, ..., 1.86, 8.4, 2.4234461525024016],\n",
       "       [109, 10.5, 36.5, ..., 1.31, 7.39, 2.4234461525024016]],\n",
       "      dtype=object)"
      ]
     },
     "execution_count": 285,
     "metadata": {},
     "output_type": "execute_result"
    }
   ],
   "source": [
    "X"
   ]
  },
  {
   "cell_type": "code",
   "execution_count": 286,
   "id": "dimensional-morris",
   "metadata": {},
   "outputs": [
    {
     "data": {
      "text/plain": [
       "array([nan, 'Moderate', 'Moderate', ..., 'Satisfactory', 'Satisfactory',\n",
       "       'Satisfactory'], dtype=object)"
      ]
     },
     "execution_count": 286,
     "metadata": {},
     "output_type": "execute_result"
    }
   ],
   "source": [
    "y"
   ]
  },
  {
   "cell_type": "code",
   "execution_count": 287,
   "id": "liberal-hebrew",
   "metadata": {},
   "outputs": [
    {
     "data": {
      "text/plain": [
       "(108035,)"
      ]
     },
     "execution_count": 287,
     "metadata": {},
     "output_type": "execute_result"
    }
   ],
   "source": [
    "y.shape"
   ]
  },
  {
   "cell_type": "code",
   "execution_count": 288,
   "id": "operational-cinema",
   "metadata": {},
   "outputs": [],
   "source": [
    "#y=y.reshape(len(y),1)"
   ]
  },
  {
   "cell_type": "code",
   "execution_count": 289,
   "id": "sonic-footwear",
   "metadata": {},
   "outputs": [],
   "source": [
    "from sklearn.preprocessing import LabelEncoder\n",
    "s=LabelEncoder()\n",
    "y= s.fit_transform(y)"
   ]
  },
  {
   "cell_type": "code",
   "execution_count": 290,
   "id": "cleared-alcohol",
   "metadata": {},
   "outputs": [
    {
     "data": {
      "text/plain": [
       "array([6, 1, 1, ..., 3, 3, 3])"
      ]
     },
     "execution_count": 290,
     "metadata": {},
     "output_type": "execute_result"
    }
   ],
   "source": [
    "y.shape\n",
    "y"
   ]
  },
  {
   "cell_type": "code",
   "execution_count": 291,
   "id": "accurate-village",
   "metadata": {},
   "outputs": [
    {
     "data": {
      "text/plain": [
       "array([0, 0, 0, ..., 109, 109, 109], dtype=object)"
      ]
     },
     "execution_count": 291,
     "metadata": {},
     "output_type": "execute_result"
    }
   ],
   "source": [
    "X[:,0]"
   ]
  },
  {
   "cell_type": "markdown",
   "id": "impressive-constitution",
   "metadata": {},
   "source": [
    "# Spliting Data in Training and Testing "
   ]
  },
  {
   "cell_type": "code",
   "execution_count": 292,
   "id": "backed-paraguay",
   "metadata": {},
   "outputs": [],
   "source": [
    "from sklearn.model_selection import train_test_split\n",
    "X_train, X_test, y_train, y_test = train_test_split(X, y, test_size = 0.25, random_state = 0)"
   ]
  },
  {
   "cell_type": "code",
   "execution_count": 293,
   "id": "organizational-michael",
   "metadata": {},
   "outputs": [],
   "source": [
    "from sklearn.preprocessing import StandardScaler\n",
    "sc = StandardScaler()\n",
    "X_train = sc.fit_transform(X_train)\n",
    "X_test = sc.transform(X_test)\n"
   ]
  },
  {
   "cell_type": "code",
   "execution_count": 294,
   "id": "running-mechanics",
   "metadata": {},
   "outputs": [
    {
     "data": {
      "text/plain": [
       "array([[ 2.54668101e-01, -7.18655211e-01, -3.06915810e-03, ...,\n",
       "         6.22451878e-04, -6.54513365e-01, -1.28163397e-03],\n",
       "       [ 9.66599101e-01,  2.80068868e-01,  1.12976843e-01, ...,\n",
       "         6.22451878e-04, -1.92247473e-03, -1.28163397e-03],\n",
       "       [ 1.67853010e+00, -3.92014718e-01, -8.62130244e-01, ...,\n",
       "        -2.52460981e-01, -5.97527420e-01,  1.89933636e-01],\n",
       "       ...,\n",
       "       [-4.24902399e-01, -2.36990325e-03, -3.06915810e-03, ...,\n",
       "        -3.72446317e-01, -6.54513365e-01, -1.28163397e-03],\n",
       "       [-4.24902399e-01, -2.36990325e-03, -6.63817502e-01, ...,\n",
       "         6.22451878e-04, -1.92247473e-03, -1.28163397e-03],\n",
       "       [ 2.87028601e-01, -2.36990325e-03, -7.70993874e-01, ...,\n",
       "         6.22451878e-04, -1.92247473e-03, -1.28163397e-03]])"
      ]
     },
     "execution_count": 294,
     "metadata": {},
     "output_type": "execute_result"
    }
   ],
   "source": [
    "X_train"
   ]
  },
  {
   "cell_type": "code",
   "execution_count": 295,
   "id": "floppy-librarian",
   "metadata": {},
   "outputs": [
    {
     "data": {
      "text/plain": [
       "array([3, 1, 3, ..., 6, 3, 3])"
      ]
     },
     "execution_count": 295,
     "metadata": {},
     "output_type": "execute_result"
    }
   ],
   "source": [
    "y_train"
   ]
  },
  {
   "cell_type": "code",
   "execution_count": 296,
   "id": "developmental-brake",
   "metadata": {},
   "outputs": [
    {
     "data": {
      "text/plain": [
       "numpy.ndarray"
      ]
     },
     "execution_count": 296,
     "metadata": {},
     "output_type": "execute_result"
    }
   ],
   "source": [
    "type(y_train)"
   ]
  },
  {
   "cell_type": "markdown",
   "id": "rational-baseline",
   "metadata": {},
   "source": [
    "# Training the Decision Tree Classification model on the Training set"
   ]
  },
  {
   "cell_type": "code",
   "execution_count": 297,
   "id": "improving-employee",
   "metadata": {},
   "outputs": [
    {
     "data": {
      "text/plain": [
       "DecisionTreeClassifier(criterion='entropy', random_state=0)"
      ]
     },
     "execution_count": 297,
     "metadata": {},
     "output_type": "execute_result"
    }
   ],
   "source": [
    "from sklearn.tree import DecisionTreeClassifier\n",
    "classifier = DecisionTreeClassifier(criterion = 'entropy', random_state = 0)\n",
    "classifier.fit(X_train, y_train)"
   ]
  },
  {
   "cell_type": "code",
   "execution_count": 298,
   "id": "aboriginal-seattle",
   "metadata": {},
   "outputs": [
    {
     "name": "stderr",
     "output_type": "stream",
     "text": [
      "*c* argument looks like a single numeric RGB or RGBA sequence, which should be avoided as value-mapping will have precedence in case its length matches with *x* & *y*.  Please use the *color* keyword-argument or provide a 2D array with a single row if you intend to specify the same RGB or RGBA value for all points.\n",
      "*c* argument looks like a single numeric RGB or RGBA sequence, which should be avoided as value-mapping will have precedence in case its length matches with *x* & *y*.  Please use the *color* keyword-argument or provide a 2D array with a single row if you intend to specify the same RGB or RGBA value for all points.\n",
      "*c* argument looks like a single numeric RGB or RGBA sequence, which should be avoided as value-mapping will have precedence in case its length matches with *x* & *y*.  Please use the *color* keyword-argument or provide a 2D array with a single row if you intend to specify the same RGB or RGBA value for all points.\n",
      "*c* argument looks like a single numeric RGB or RGBA sequence, which should be avoided as value-mapping will have precedence in case its length matches with *x* & *y*.  Please use the *color* keyword-argument or provide a 2D array with a single row if you intend to specify the same RGB or RGBA value for all points.\n",
      "*c* argument looks like a single numeric RGB or RGBA sequence, which should be avoided as value-mapping will have precedence in case its length matches with *x* & *y*.  Please use the *color* keyword-argument or provide a 2D array with a single row if you intend to specify the same RGB or RGBA value for all points.\n",
      "*c* argument looks like a single numeric RGB or RGBA sequence, which should be avoided as value-mapping will have precedence in case its length matches with *x* & *y*.  Please use the *color* keyword-argument or provide a 2D array with a single row if you intend to specify the same RGB or RGBA value for all points.\n",
      "*c* argument looks like a single numeric RGB or RGBA sequence, which should be avoided as value-mapping will have precedence in case its length matches with *x* & *y*.  Please use the *color* keyword-argument or provide a 2D array with a single row if you intend to specify the same RGB or RGBA value for all points.\n"
     ]
    },
    {
     "data": {
      "image/png": "[encoded data removed]",
      "text/plain": [
       "<Figure size 432x288 with 1 Axes>"
      ]
     },
     "metadata": {
      "needs_background": "light"
     },
     "output_type": "display_data"
    }
   ],
   "source": [
    "from matplotlib.colors import ListedColormap\n",
    "X_set, y_set = sc.inverse_transform(X_train), y_train\n",
    "X1, X2 = np.meshgrid(np.arange(start = X_set[:, 0].min() - 10, stop = X_set[:, 0].max() + 10, step = 0.25),\n",
    "                     np.arange(start = X_set[:, 1].min() - 1000, stop = X_set[:, 1].max() + 1000, step = 0.25))\n",
    "plt.xlim(X1.min(), X1.max())\n",
    "plt.ylim(X2.min(), X2.max())\n",
    "for i, j in enumerate(np.unique(y_set)):\n",
    "    plt.scatter(X_set[y_set == j, 0], X_set[y_set == j, 1], c = ListedColormap(('red', 'green','blue','orange','purple','black','coral'))(i), label = j)\n",
    "plt.title('Decision Tree Classification (Training set)')\n",
    "plt.xlabel('Polutants')\n",
    "plt.ylabel('AQI RATE')\n",
    "plt.legend()\n",
    "plt.show()"
   ]
  },
  {
   "cell_type": "code",
   "execution_count": 299,
   "id": "eleven-ensemble",
   "metadata": {},
   "outputs": [
    {
     "name": "stderr",
     "output_type": "stream",
     "text": [
      "*c* argument looks like a single numeric RGB or RGBA sequence, which should be avoided as value-mapping will have precedence in case its length matches with *x* & *y*.  Please use the *color* keyword-argument or provide a 2D array with a single row if you intend to specify the same RGB or RGBA value for all points.\n",
      "*c* argument looks like a single numeric RGB or RGBA sequence, which should be avoided as value-mapping will have precedence in case its length matches with *x* & *y*.  Please use the *color* keyword-argument or provide a 2D array with a single row if you intend to specify the same RGB or RGBA value for all points.\n",
      "*c* argument looks like a single numeric RGB or RGBA sequence, which should be avoided as value-mapping will have precedence in case its length matches with *x* & *y*.  Please use the *color* keyword-argument or provide a 2D array with a single row if you intend to specify the same RGB or RGBA value for all points.\n",
      "*c* argument looks like a single numeric RGB or RGBA sequence, which should be avoided as value-mapping will have precedence in case its length matches with *x* & *y*.  Please use the *color* keyword-argument or provide a 2D array with a single row if you intend to specify the same RGB or RGBA value for all points.\n",
      "*c* argument looks like a single numeric RGB or RGBA sequence, which should be avoided as value-mapping will have precedence in case its length matches with *x* & *y*.  Please use the *color* keyword-argument or provide a 2D array with a single row if you intend to specify the same RGB or RGBA value for all points.\n",
      "*c* argument looks like a single numeric RGB or RGBA sequence, which should be avoided as value-mapping will have precedence in case its length matches with *x* & *y*.  Please use the *color* keyword-argument or provide a 2D array with a single row if you intend to specify the same RGB or RGBA value for all points.\n",
      "*c* argument looks like a single numeric RGB or RGBA sequence, which should be avoided as value-mapping will have precedence in case its length matches with *x* & *y*.  Please use the *color* keyword-argument or provide a 2D array with a single row if you intend to specify the same RGB or RGBA value for all points.\n"
     ]
    },
    {
     "data": {
      "image/png": "[encoded data removed]",
      "text/plain": [
       "<Figure size 432x288 with 1 Axes>"
      ]
     },
     "metadata": {
      "needs_background": "light"
     },
     "output_type": "display_data"
    }
   ],
   "source": [
    "from matplotlib.colors import ListedColormap\n",
    "X_set, y_set = sc.inverse_transform(X_test), y_test\n",
    "X1, X2 = np.meshgrid(np.arange(start = X_set[:, 0].min() - 10, stop = X_set[:, 0].max() + 10, step = 0.25),\n",
    "                     np.arange(start = X_set[:, 1].min() - 1000, stop = X_set[:, 1].max() + 1000, step = 0.25))\n",
    "plt.xlim(X1.min(), X1.max())\n",
    "plt.ylim(X2.min(), X2.max())\n",
    "for i, j in enumerate(np.unique(y_set)):\n",
    "    plt.scatter(X_set[y_set == j, 0], X_set[y_set == j, 1], c = ListedColormap(('red', 'green','blue','orange','purple','black','coral'))(i), label = j)\n",
    "plt.title('Decision Tree Classification (Test set)')\n",
    "plt.xlabel('Polutants')\n",
    "plt.ylabel('AQI Rate')\n",
    "plt.legend()\n",
    "plt.show()"
   ]
  },
  {
   "cell_type": "markdown",
   "id": "vulnerable-duration",
   "metadata": {},
   "source": [
    "# Accuracy of an model"
   ]
  },
  {
   "cell_type": "code",
   "execution_count": 300,
   "id": "innovative-playback",
   "metadata": {
    "scrolled": false
   },
   "outputs": [
    {
     "name": "stdout",
     "output_type": "stream",
     "text": [
      "[[ 970   15    1  382    2    1   57]\n",
      " [  15 5402  664  940    5   71  261]\n",
      " [   0  648 1582   29   26  491   89]\n",
      " [ 361  969   31 4319    3    9  234]\n",
      " [   0    7   22    0  946  250   31]\n",
      " [   0   56  463    7  300 1987   82]\n",
      " [  52  267   82  182   40   78 4580]]\n"
     ]
    },
    {
     "data": {
      "text/plain": [
       "0.7325706246066126"
      ]
     },
     "execution_count": 300,
     "metadata": {},
     "output_type": "execute_result"
    }
   ],
   "source": [
    "y_pred = classifier.predict(X_test)\n",
    "from sklearn.metrics import confusion_matrix, accuracy_score\n",
    "cm = confusion_matrix(y_test, y_pred)\n",
    "print(cm)\n",
    "accuracy_score(y_test, y_pred)"
   ]
  },
  {
   "cell_type": "markdown",
   "id": "neither-welding",
   "metadata": {},
   "source": [
    "# Training the Decision Tree Regression model on the whole dataset"
   ]
  },
  {
   "cell_type": "code",
   "execution_count": 301,
   "id": "fifty-strip",
   "metadata": {
    "scrolled": false
   },
   "outputs": [
    {
     "data": {
      "text/plain": [
       "DecisionTreeRegressor(random_state=0)"
      ]
     },
     "execution_count": 301,
     "metadata": {},
     "output_type": "execute_result"
    }
   ],
   "source": [
    "from sklearn.tree import DecisionTreeRegressor\n",
    "regressor = DecisionTreeRegressor(random_state = 0)\n",
    "regressor.fit(X_train, y_train)"
   ]
  },
  {
   "cell_type": "code",
   "execution_count": 302,
   "id": "local-impossible",
   "metadata": {},
   "outputs": [
    {
     "name": "stdout",
     "output_type": "stream",
     "text": [
      "(27009,)\n"
     ]
    },
    {
     "data": {
      "text/plain": [
       "array([1., 1., 3., ..., 1., 1., 3.])"
      ]
     },
     "execution_count": 302,
     "metadata": {},
     "output_type": "execute_result"
    }
   ],
   "source": [
    "y_pred = regressor.predict(X_test)\n",
    "print(y_pred.shape)\n",
    "y_pred"
   ]
  },
  {
   "cell_type": "markdown",
   "id": "beginning-floor",
   "metadata": {},
   "source": [
    "# Accuracy before removing Outliers"
   ]
  },
  {
   "cell_type": "code",
   "execution_count": 303,
   "id": "norwegian-champagne",
   "metadata": {},
   "outputs": [
    {
     "name": "stdout",
     "output_type": "stream",
     "text": [
      "0.5024170791518769\n"
     ]
    }
   ],
   "source": [
    "print(regressor.score(X_test, y_test))"
   ]
  },
  {
   "cell_type": "markdown",
   "id": "viral-robert",
   "metadata": {},
   "source": [
    "# Training the Random Forest Regression model on the whole dataset"
   ]
  },
  {
   "cell_type": "code",
   "execution_count": 304,
   "id": "valued-benjamin",
   "metadata": {},
   "outputs": [
    {
     "data": {
      "text/plain": [
       "RandomForestRegressor(n_estimators=10, random_state=0)"
      ]
     },
     "execution_count": 304,
     "metadata": {},
     "output_type": "execute_result"
    }
   ],
   "source": [
    "from sklearn.ensemble import RandomForestRegressor\n",
    "regressor = RandomForestRegressor(n_estimators = 10, random_state = 0)\n",
    "regressor.fit(X, y)"
   ]
  },
  {
   "cell_type": "markdown",
   "id": "alleged-broad",
   "metadata": {},
   "source": [
    "# Accuracy of Random Forest Regression"
   ]
  },
  {
   "cell_type": "code",
   "execution_count": 305,
   "id": "solved-underwear",
   "metadata": {},
   "outputs": [
    {
     "name": "stdout",
     "output_type": "stream",
     "text": [
      "0.9410864688903791\n"
     ]
    }
   ],
   "source": [
    "print(regressor.score(X, y))"
   ]
  },
  {
   "cell_type": "markdown",
   "id": "manufactured-intro",
   "metadata": {},
   "source": [
    "# Removing Outliers using Boxplot"
   ]
  },
  {
   "cell_type": "code",
   "execution_count": 306,
   "id": "quantitative-headset",
   "metadata": {},
   "outputs": [],
   "source": [
    "cols = ['PM2.5',\n",
    " 'PM10',\n",
    " 'NO',\n",
    " 'NO2',\n",
    " 'NOx',\n",
    " 'NH3',\n",
    " 'CO',\n",
    " 'SO2',\n",
    " 'O3',\n",
    " 'Benzene',\n",
    " 'Toluene',\n",
    " 'Xylene'] \n",
    "\n",
    "Q1 = data[cols].quantile(0.25)\n",
    "Q3 = data[cols].quantile(0.75)\n",
    "IQR = Q3 - Q1\n",
    "\n",
    "data = data[~((data[cols] < (Q1 - 1.5 * IQR)) |(data[cols] > (Q3 + 1.5 * IQR))).any(axis=1)]\n"
   ]
  },
  {
   "cell_type": "code",
   "execution_count": 307,
   "id": "roman-string",
   "metadata": {},
   "outputs": [
    {
     "data": {
      "text/html": [
       "<div>\n",
       "<style scoped>\n",
       "    .dataframe tbody tr th:only-of-type {\n",
       "        vertical-align: middle;\n",
       "    }\n",
       "\n",
       "    .dataframe tbody tr th {\n",
       "        vertical-align: top;\n",
       "    }\n",
       "\n",
       "    .dataframe thead th {\n",
       "        text-align: right;\n",
       "    }\n",
       "</style>\n",
       "<table border=\"1\" class=\"dataframe\">\n",
       "  <thead>\n",
       "    <tr style=\"text-align: right;\">\n",
       "      <th></th>\n",
       "      <th>StationId</th>\n",
       "      <th>PM2.5</th>\n",
       "      <th>PM10</th>\n",
       "      <th>NO</th>\n",
       "      <th>NO2</th>\n",
       "      <th>NOx</th>\n",
       "      <th>NH3</th>\n",
       "      <th>CO</th>\n",
       "      <th>SO2</th>\n",
       "      <th>O3</th>\n",
       "      <th>Benzene</th>\n",
       "      <th>Toluene</th>\n",
       "      <th>Xylene</th>\n",
       "      <th>AQI_Bucket</th>\n",
       "    </tr>\n",
       "    <tr>\n",
       "      <th>Date</th>\n",
       "      <th></th>\n",
       "      <th></th>\n",
       "      <th></th>\n",
       "      <th></th>\n",
       "      <th></th>\n",
       "      <th></th>\n",
       "      <th></th>\n",
       "      <th></th>\n",
       "      <th></th>\n",
       "      <th></th>\n",
       "      <th></th>\n",
       "      <th></th>\n",
       "      <th></th>\n",
       "      <th></th>\n",
       "    </tr>\n",
       "  </thead>\n",
       "  <tbody>\n",
       "    <tr>\n",
       "      <th>2018-03-16</th>\n",
       "      <td>AP001</td>\n",
       "      <td>16.62</td>\n",
       "      <td>39.94</td>\n",
       "      <td>4.90</td>\n",
       "      <td>8.18</td>\n",
       "      <td>8.43</td>\n",
       "      <td>11.53</td>\n",
       "      <td>0.580000</td>\n",
       "      <td>6.370000</td>\n",
       "      <td>12.68</td>\n",
       "      <td>0.01</td>\n",
       "      <td>1.52</td>\n",
       "      <td>2.423446</td>\n",
       "      <td>Satisfactory</td>\n",
       "    </tr>\n",
       "    <tr>\n",
       "      <th>2018-03-25</th>\n",
       "      <td>AP001</td>\n",
       "      <td>35.91</td>\n",
       "      <td>71.26</td>\n",
       "      <td>2.94</td>\n",
       "      <td>6.99</td>\n",
       "      <td>6.19</td>\n",
       "      <td>13.53</td>\n",
       "      <td>0.670000</td>\n",
       "      <td>3.690000</td>\n",
       "      <td>27.58</td>\n",
       "      <td>0.01</td>\n",
       "      <td>1.69</td>\n",
       "      <td>2.423446</td>\n",
       "      <td>Satisfactory</td>\n",
       "    </tr>\n",
       "    <tr>\n",
       "      <th>2018-03-29</th>\n",
       "      <td>AP001</td>\n",
       "      <td>26.82</td>\n",
       "      <td>52.51</td>\n",
       "      <td>3.63</td>\n",
       "      <td>7.68</td>\n",
       "      <td>7.14</td>\n",
       "      <td>11.54</td>\n",
       "      <td>0.690000</td>\n",
       "      <td>13.630000</td>\n",
       "      <td>23.60</td>\n",
       "      <td>0.00</td>\n",
       "      <td>1.27</td>\n",
       "      <td>2.423446</td>\n",
       "      <td>Satisfactory</td>\n",
       "    </tr>\n",
       "    <tr>\n",
       "      <th>2018-03-31</th>\n",
       "      <td>AP001</td>\n",
       "      <td>28.48</td>\n",
       "      <td>55.80</td>\n",
       "      <td>3.06</td>\n",
       "      <td>6.86</td>\n",
       "      <td>6.23</td>\n",
       "      <td>10.49</td>\n",
       "      <td>0.640000</td>\n",
       "      <td>12.970000</td>\n",
       "      <td>24.19</td>\n",
       "      <td>0.00</td>\n",
       "      <td>1.42</td>\n",
       "      <td>2.423446</td>\n",
       "      <td>Satisfactory</td>\n",
       "    </tr>\n",
       "    <tr>\n",
       "      <th>2018-04-11</th>\n",
       "      <td>AP001</td>\n",
       "      <td>13.00</td>\n",
       "      <td>29.00</td>\n",
       "      <td>3.80</td>\n",
       "      <td>2.80</td>\n",
       "      <td>4.60</td>\n",
       "      <td>20.10</td>\n",
       "      <td>1.605749</td>\n",
       "      <td>12.257634</td>\n",
       "      <td>19.60</td>\n",
       "      <td>0.00</td>\n",
       "      <td>0.80</td>\n",
       "      <td>2.423446</td>\n",
       "      <td>NaN</td>\n",
       "    </tr>\n",
       "    <tr>\n",
       "      <th>...</th>\n",
       "      <td>...</td>\n",
       "      <td>...</td>\n",
       "      <td>...</td>\n",
       "      <td>...</td>\n",
       "      <td>...</td>\n",
       "      <td>...</td>\n",
       "      <td>...</td>\n",
       "      <td>...</td>\n",
       "      <td>...</td>\n",
       "      <td>...</td>\n",
       "      <td>...</td>\n",
       "      <td>...</td>\n",
       "      <td>...</td>\n",
       "      <td>...</td>\n",
       "    </tr>\n",
       "    <tr>\n",
       "      <th>2020-06-24</th>\n",
       "      <td>WB013</td>\n",
       "      <td>20.05</td>\n",
       "      <td>46.63</td>\n",
       "      <td>3.78</td>\n",
       "      <td>15.28</td>\n",
       "      <td>19.06</td>\n",
       "      <td>18.89</td>\n",
       "      <td>0.660000</td>\n",
       "      <td>7.080000</td>\n",
       "      <td>41.56</td>\n",
       "      <td>1.14</td>\n",
       "      <td>7.24</td>\n",
       "      <td>2.423446</td>\n",
       "      <td>Satisfactory</td>\n",
       "    </tr>\n",
       "    <tr>\n",
       "      <th>2020-06-25</th>\n",
       "      <td>WB013</td>\n",
       "      <td>17.03</td>\n",
       "      <td>39.64</td>\n",
       "      <td>3.23</td>\n",
       "      <td>11.42</td>\n",
       "      <td>14.65</td>\n",
       "      <td>18.98</td>\n",
       "      <td>0.570000</td>\n",
       "      <td>11.390000</td>\n",
       "      <td>31.76</td>\n",
       "      <td>0.79</td>\n",
       "      <td>6.85</td>\n",
       "      <td>2.423446</td>\n",
       "      <td>Satisfactory</td>\n",
       "    </tr>\n",
       "    <tr>\n",
       "      <th>2020-06-26</th>\n",
       "      <td>WB013</td>\n",
       "      <td>9.79</td>\n",
       "      <td>19.87</td>\n",
       "      <td>23.51</td>\n",
       "      <td>16.50</td>\n",
       "      <td>40.02</td>\n",
       "      <td>25.09</td>\n",
       "      <td>0.660000</td>\n",
       "      <td>10.340000</td>\n",
       "      <td>30.19</td>\n",
       "      <td>0.93</td>\n",
       "      <td>6.37</td>\n",
       "      <td>2.423446</td>\n",
       "      <td>Good</td>\n",
       "    </tr>\n",
       "    <tr>\n",
       "      <th>2020-06-30</th>\n",
       "      <td>WB013</td>\n",
       "      <td>16.07</td>\n",
       "      <td>39.30</td>\n",
       "      <td>7.56</td>\n",
       "      <td>29.13</td>\n",
       "      <td>36.69</td>\n",
       "      <td>29.26</td>\n",
       "      <td>0.690000</td>\n",
       "      <td>5.880000</td>\n",
       "      <td>29.64</td>\n",
       "      <td>1.86</td>\n",
       "      <td>8.40</td>\n",
       "      <td>2.423446</td>\n",
       "      <td>Satisfactory</td>\n",
       "    </tr>\n",
       "    <tr>\n",
       "      <th>2020-07-01</th>\n",
       "      <td>WB013</td>\n",
       "      <td>10.50</td>\n",
       "      <td>36.50</td>\n",
       "      <td>7.78</td>\n",
       "      <td>22.50</td>\n",
       "      <td>30.25</td>\n",
       "      <td>27.23</td>\n",
       "      <td>0.580000</td>\n",
       "      <td>2.800000</td>\n",
       "      <td>13.10</td>\n",
       "      <td>1.31</td>\n",
       "      <td>7.39</td>\n",
       "      <td>2.423446</td>\n",
       "      <td>Satisfactory</td>\n",
       "    </tr>\n",
       "  </tbody>\n",
       "</table>\n",
       "<p>42760 rows × 14 columns</p>\n",
       "</div>"
      ],
      "text/plain": [
       "           StationId  PM2.5   PM10     NO    NO2    NOx    NH3        CO  \\\n",
       "Date                                                                       \n",
       "2018-03-16     AP001  16.62  39.94   4.90   8.18   8.43  11.53  0.580000   \n",
       "2018-03-25     AP001  35.91  71.26   2.94   6.99   6.19  13.53  0.670000   \n",
       "2018-03-29     AP001  26.82  52.51   3.63   7.68   7.14  11.54  0.690000   \n",
       "2018-03-31     AP001  28.48  55.80   3.06   6.86   6.23  10.49  0.640000   \n",
       "2018-04-11     AP001  13.00  29.00   3.80   2.80   4.60  20.10  1.605749   \n",
       "...              ...    ...    ...    ...    ...    ...    ...       ...   \n",
       "2020-06-24     WB013  20.05  46.63   3.78  15.28  19.06  18.89  0.660000   \n",
       "2020-06-25     WB013  17.03  39.64   3.23  11.42  14.65  18.98  0.570000   \n",
       "2020-06-26     WB013   9.79  19.87  23.51  16.50  40.02  25.09  0.660000   \n",
       "2020-06-30     WB013  16.07  39.30   7.56  29.13  36.69  29.26  0.690000   \n",
       "2020-07-01     WB013  10.50  36.50   7.78  22.50  30.25  27.23  0.580000   \n",
       "\n",
       "                  SO2     O3  Benzene  Toluene    Xylene    AQI_Bucket  \n",
       "Date                                                                    \n",
       "2018-03-16   6.370000  12.68     0.01     1.52  2.423446  Satisfactory  \n",
       "2018-03-25   3.690000  27.58     0.01     1.69  2.423446  Satisfactory  \n",
       "2018-03-29  13.630000  23.60     0.00     1.27  2.423446  Satisfactory  \n",
       "2018-03-31  12.970000  24.19     0.00     1.42  2.423446  Satisfactory  \n",
       "2018-04-11  12.257634  19.60     0.00     0.80  2.423446           NaN  \n",
       "...               ...    ...      ...      ...       ...           ...  \n",
       "2020-06-24   7.080000  41.56     1.14     7.24  2.423446  Satisfactory  \n",
       "2020-06-25  11.390000  31.76     0.79     6.85  2.423446  Satisfactory  \n",
       "2020-06-26  10.340000  30.19     0.93     6.37  2.423446          Good  \n",
       "2020-06-30   5.880000  29.64     1.86     8.40  2.423446  Satisfactory  \n",
       "2020-07-01   2.800000  13.10     1.31     7.39  2.423446  Satisfactory  \n",
       "\n",
       "[42760 rows x 14 columns]"
      ]
     },
     "execution_count": 307,
     "metadata": {},
     "output_type": "execute_result"
    }
   ],
   "source": [
    "data"
   ]
  },
  {
   "cell_type": "code",
   "execution_count": 308,
   "id": "married-liver",
   "metadata": {},
   "outputs": [],
   "source": [
    "from sklearn.preprocessing import LabelEncoder\n",
    "s=LabelEncoder()\n",
    "y= s.fit_transform(y)"
   ]
  },
  {
   "cell_type": "code",
   "execution_count": 309,
   "id": "liked-procurement",
   "metadata": {},
   "outputs": [
    {
     "name": "stdout",
     "output_type": "stream",
     "text": [
      "0.424511586063826\n"
     ]
    },
    {
     "data": {
      "text/plain": [
       "count    42760.000000\n",
       "mean        14.544350\n",
       "std          9.571959\n",
       "min          0.020000\n",
       "25%          5.730000\n",
       "50%         12.865000\n",
       "75%         23.123424\n",
       "max         49.100000\n",
       "Name: NO, dtype: float64"
      ]
     },
     "execution_count": 309,
     "metadata": {},
     "output_type": "execute_result"
    }
   ],
   "source": [
    "print(data['NO'].skew())\n",
    "data['NO'].describe()"
   ]
  },
  {
   "cell_type": "code",
   "execution_count": 310,
   "id": "experimental-polyester",
   "metadata": {},
   "outputs": [
    {
     "data": {
      "text/plain": [
       "<AxesSubplot:>"
      ]
     },
     "execution_count": 310,
     "metadata": {},
     "output_type": "execute_result"
    },
    {
     "data": {
      "image/png": "[encoded data removed]",
      "text/plain": [
       "<Figure size 936x576 with 1 Axes>"
      ]
     },
     "metadata": {
      "needs_background": "light"
     },
     "output_type": "display_data"
    }
   ],
   "source": [
    "data = pd.DataFrame(data = np.random.random(size=(13,12)), columns = ['PM2.5',\n",
    " 'PM10',\n",
    " 'NO',\n",
    " 'NO2',\n",
    " 'NOx',\n",
    " 'NH3',\n",
    " 'CO',\n",
    " 'SO2',\n",
    " 'O3',\n",
    " 'Benzene',\n",
    " 'Toluene',\n",
    " 'Xylene'])\n",
    "data.boxplot(figsize=(13,8))"
   ]
  },
  {
   "cell_type": "markdown",
   "id": "solid-analysis",
   "metadata": {},
   "source": [
    "# Spliting Data in Training and Testing"
   ]
  },
  {
   "cell_type": "code",
   "execution_count": 311,
   "id": "weekly-procedure",
   "metadata": {},
   "outputs": [],
   "source": [
    "from sklearn.model_selection import train_test_split\n",
    "X_train, X_test, y_train, y_test = train_test_split(X, y, test_size = 0.25, random_state = 0)"
   ]
  },
  {
   "cell_type": "code",
   "execution_count": 312,
   "id": "progressive-airline",
   "metadata": {},
   "outputs": [],
   "source": [
    "from sklearn.preprocessing import StandardScaler\n",
    "sc = StandardScaler()\n",
    "X_train = sc.fit_transform(X_train)\n",
    "X_test = sc.transform(X_test)\n"
   ]
  },
  {
   "cell_type": "markdown",
   "id": "neutral-strategy",
   "metadata": {},
   "source": [
    "# Training the Decision Tree Regression model on the whole dataset"
   ]
  },
  {
   "cell_type": "code",
   "execution_count": 313,
   "id": "personalized-james",
   "metadata": {},
   "outputs": [
    {
     "data": {
      "text/plain": [
       "DecisionTreeRegressor(random_state=0)"
      ]
     },
     "execution_count": 313,
     "metadata": {},
     "output_type": "execute_result"
    }
   ],
   "source": [
    "from sklearn.tree import DecisionTreeRegressor\n",
    "regressor = DecisionTreeRegressor(random_state = 0)\n",
    "regressor.fit(X_train, y_train)"
   ]
  },
  {
   "cell_type": "code",
   "execution_count": 314,
   "id": "impressed-bracelet",
   "metadata": {},
   "outputs": [
    {
     "name": "stdout",
     "output_type": "stream",
     "text": [
      "(27009,)\n"
     ]
    }
   ],
   "source": [
    "y_pred = regressor.predict(X_test)\n",
    "print(y_pred.shape)"
   ]
  },
  {
   "cell_type": "code",
   "execution_count": 315,
   "id": "unlike-jordan",
   "metadata": {},
   "outputs": [
    {
     "name": "stdout",
     "output_type": "stream",
     "text": [
      "0.5024170791518769\n"
     ]
    }
   ],
   "source": [
    "print(regressor.score(X_test, y_test))"
   ]
  },
  {
   "cell_type": "markdown",
   "id": "floppy-delivery",
   "metadata": {},
   "source": [
    "# Training the Random Forest Regression model on the whole dataset"
   ]
  },
  {
   "cell_type": "code",
   "execution_count": 316,
   "id": "headed-victorian",
   "metadata": {},
   "outputs": [
    {
     "data": {
      "text/plain": [
       "RandomForestRegressor(n_estimators=10, random_state=0)"
      ]
     },
     "execution_count": 316,
     "metadata": {},
     "output_type": "execute_result"
    }
   ],
   "source": [
    "from sklearn.ensemble import RandomForestRegressor\n",
    "regressor = RandomForestRegressor(n_estimators = 10, random_state = 0)\n",
    "regressor.fit(X, y)"
   ]
  },
  {
   "cell_type": "code",
   "execution_count": 317,
   "id": "engaged-consideration",
   "metadata": {},
   "outputs": [
    {
     "name": "stdout",
     "output_type": "stream",
     "text": [
      "0.9410864688903791\n"
     ]
    }
   ],
   "source": [
    "print(regressor.score(X, y))"
   ]
  },
  {
   "cell_type": "code",
   "execution_count": 318,
   "id": "local-coaching",
   "metadata": {},
   "outputs": [],
   "source": [
    "#sns.boxplot(x=data['NO'])"
   ]
  },
  {
   "cell_type": "code",
   "execution_count": 319,
   "id": "substantial-action",
   "metadata": {},
   "outputs": [],
   "source": [
    "#print(data['NO'].quantile(0.90))\n",
    "#print(data['NO'].skew())"
   ]
  },
  {
   "cell_type": "code",
   "execution_count": 320,
   "id": "other-production",
   "metadata": {},
   "outputs": [],
   "source": [
    "#data[\"NO\"] = np.where(data[\"NO\"] <2.68, 2.68,data['NO'])\n",
    "#data[\"NO\"] = np.where(data[\"NO\"] >51.91, 51.91,data['NO'])"
   ]
  }
 ],
 "metadata": {
  "kernelspec": {
   "display_name": "Python 3",
   "language": "python",
   "name": "python3"
  },
  "language_info": {
   "codemirror_mode": {
    "name": "ipython",
    "version": 3
   },
   "file_extension": ".py",
   "mimetype": "text/x-python",
   "name": "python",
   "nbconvert_exporter": "python",
   "pygments_lexer": "ipython3",
   "version": "3.9.2"
  }
 },
 "nbformat": 4,
 "nbformat_minor": 5
}
