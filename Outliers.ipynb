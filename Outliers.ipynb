{
 "cells": [
  {
   "cell_type": "code",
   "execution_count": 1,
   "id": "photographic-peter",
   "metadata": {},
   "outputs": [],
   "source": [
    "import seaborn as sns\n",
    "import pandas as pd\n",
    "import numpy as np"
   ]
  },
  {
   "cell_type": "code",
   "execution_count": 2,
   "id": "monetary-tension",
   "metadata": {},
   "outputs": [
    {
     "data": {
      "text/html": [
       "<div>\n",
       "<style scoped>\n",
       "    .dataframe tbody tr th:only-of-type {\n",
       "        vertical-align: middle;\n",
       "    }\n",
       "\n",
       "    .dataframe tbody tr th {\n",
       "        vertical-align: top;\n",
       "    }\n",
       "\n",
       "    .dataframe thead th {\n",
       "        text-align: right;\n",
       "    }\n",
       "</style>\n",
       "<table border=\"1\" class=\"dataframe\">\n",
       "  <thead>\n",
       "    <tr style=\"text-align: right;\">\n",
       "      <th></th>\n",
       "      <th>total_bill</th>\n",
       "      <th>tip</th>\n",
       "      <th>sex</th>\n",
       "      <th>smoker</th>\n",
       "      <th>day</th>\n",
       "      <th>time</th>\n",
       "      <th>size</th>\n",
       "    </tr>\n",
       "  </thead>\n",
       "  <tbody>\n",
       "    <tr>\n",
       "      <th>0</th>\n",
       "      <td>16.99</td>\n",
       "      <td>1.01</td>\n",
       "      <td>Female</td>\n",
       "      <td>No</td>\n",
       "      <td>Sun</td>\n",
       "      <td>Dinner</td>\n",
       "      <td>2</td>\n",
       "    </tr>\n",
       "    <tr>\n",
       "      <th>1</th>\n",
       "      <td>10.34</td>\n",
       "      <td>1.66</td>\n",
       "      <td>Male</td>\n",
       "      <td>No</td>\n",
       "      <td>Sun</td>\n",
       "      <td>Dinner</td>\n",
       "      <td>3</td>\n",
       "    </tr>\n",
       "    <tr>\n",
       "      <th>2</th>\n",
       "      <td>21.01</td>\n",
       "      <td>3.50</td>\n",
       "      <td>Male</td>\n",
       "      <td>No</td>\n",
       "      <td>Sun</td>\n",
       "      <td>Dinner</td>\n",
       "      <td>3</td>\n",
       "    </tr>\n",
       "    <tr>\n",
       "      <th>3</th>\n",
       "      <td>23.68</td>\n",
       "      <td>3.31</td>\n",
       "      <td>Male</td>\n",
       "      <td>No</td>\n",
       "      <td>Sun</td>\n",
       "      <td>Dinner</td>\n",
       "      <td>2</td>\n",
       "    </tr>\n",
       "    <tr>\n",
       "      <th>4</th>\n",
       "      <td>24.59</td>\n",
       "      <td>3.61</td>\n",
       "      <td>Female</td>\n",
       "      <td>No</td>\n",
       "      <td>Sun</td>\n",
       "      <td>Dinner</td>\n",
       "      <td>4</td>\n",
       "    </tr>\n",
       "  </tbody>\n",
       "</table>\n",
       "</div>"
      ],
      "text/plain": [
       "   total_bill   tip     sex smoker  day    time  size\n",
       "0       16.99  1.01  Female     No  Sun  Dinner     2\n",
       "1       10.34  1.66    Male     No  Sun  Dinner     3\n",
       "2       21.01  3.50    Male     No  Sun  Dinner     3\n",
       "3       23.68  3.31    Male     No  Sun  Dinner     2\n",
       "4       24.59  3.61  Female     No  Sun  Dinner     4"
      ]
     },
     "execution_count": 2,
     "metadata": {},
     "output_type": "execute_result"
    }
   ],
   "source": [
    "df = pd.read_csv(\"tips.csv\")\n",
    "df.head() "
   ]
  },
  {
   "cell_type": "code",
   "execution_count": 3,
   "id": "rental-grain",
   "metadata": {},
   "outputs": [
    {
     "name": "stdout",
     "output_type": "stream",
     "text": [
      "<class 'pandas.core.frame.DataFrame'>\n",
      "RangeIndex: 244 entries, 0 to 243\n",
      "Data columns (total 7 columns):\n",
      " #   Column      Non-Null Count  Dtype  \n",
      "---  ------      --------------  -----  \n",
      " 0   total_bill  244 non-null    float64\n",
      " 1   tip         244 non-null    float64\n",
      " 2   sex         244 non-null    object \n",
      " 3   smoker      244 non-null    object \n",
      " 4   day         244 non-null    object \n",
      " 5   time        244 non-null    object \n",
      " 6   size        244 non-null    int64  \n",
      "dtypes: float64(2), int64(1), object(4)\n",
      "memory usage: 13.5+ KB\n"
     ]
    }
   ],
   "source": [
    "df.info()"
   ]
  },
  {
   "cell_type": "code",
   "execution_count": 4,
   "id": "enormous-margin",
   "metadata": {},
   "outputs": [
    {
     "data": {
      "text/html": [
       "<div>\n",
       "<style scoped>\n",
       "    .dataframe tbody tr th:only-of-type {\n",
       "        vertical-align: middle;\n",
       "    }\n",
       "\n",
       "    .dataframe tbody tr th {\n",
       "        vertical-align: top;\n",
       "    }\n",
       "\n",
       "    .dataframe thead th {\n",
       "        text-align: right;\n",
       "    }\n",
       "</style>\n",
       "<table border=\"1\" class=\"dataframe\">\n",
       "  <thead>\n",
       "    <tr style=\"text-align: right;\">\n",
       "      <th></th>\n",
       "      <th>total_bill</th>\n",
       "      <th>tip</th>\n",
       "      <th>size</th>\n",
       "    </tr>\n",
       "  </thead>\n",
       "  <tbody>\n",
       "    <tr>\n",
       "      <th>count</th>\n",
       "      <td>244.000000</td>\n",
       "      <td>244.000000</td>\n",
       "      <td>244.000000</td>\n",
       "    </tr>\n",
       "    <tr>\n",
       "      <th>mean</th>\n",
       "      <td>19.785943</td>\n",
       "      <td>2.998279</td>\n",
       "      <td>2.569672</td>\n",
       "    </tr>\n",
       "    <tr>\n",
       "      <th>std</th>\n",
       "      <td>8.902412</td>\n",
       "      <td>1.383638</td>\n",
       "      <td>0.951100</td>\n",
       "    </tr>\n",
       "    <tr>\n",
       "      <th>min</th>\n",
       "      <td>3.070000</td>\n",
       "      <td>1.000000</td>\n",
       "      <td>1.000000</td>\n",
       "    </tr>\n",
       "    <tr>\n",
       "      <th>25%</th>\n",
       "      <td>13.347500</td>\n",
       "      <td>2.000000</td>\n",
       "      <td>2.000000</td>\n",
       "    </tr>\n",
       "    <tr>\n",
       "      <th>50%</th>\n",
       "      <td>17.795000</td>\n",
       "      <td>2.900000</td>\n",
       "      <td>2.000000</td>\n",
       "    </tr>\n",
       "    <tr>\n",
       "      <th>75%</th>\n",
       "      <td>24.127500</td>\n",
       "      <td>3.562500</td>\n",
       "      <td>3.000000</td>\n",
       "    </tr>\n",
       "    <tr>\n",
       "      <th>max</th>\n",
       "      <td>50.810000</td>\n",
       "      <td>10.000000</td>\n",
       "      <td>6.000000</td>\n",
       "    </tr>\n",
       "  </tbody>\n",
       "</table>\n",
       "</div>"
      ],
      "text/plain": [
       "       total_bill         tip        size\n",
       "count  244.000000  244.000000  244.000000\n",
       "mean    19.785943    2.998279    2.569672\n",
       "std      8.902412    1.383638    0.951100\n",
       "min      3.070000    1.000000    1.000000\n",
       "25%     13.347500    2.000000    2.000000\n",
       "50%     17.795000    2.900000    2.000000\n",
       "75%     24.127500    3.562500    3.000000\n",
       "max     50.810000   10.000000    6.000000"
      ]
     },
     "execution_count": 4,
     "metadata": {},
     "output_type": "execute_result"
    }
   ],
   "source": [
    "df.describe()"
   ]
  },
  {
   "cell_type": "code",
   "execution_count": 5,
   "id": "homeless-crawford",
   "metadata": {},
   "outputs": [],
   "source": [
    "X = df.iloc[:, :-1].values\n",
    "y = df[\"size\"].values"
   ]
  },
  {
   "cell_type": "code",
   "execution_count": 6,
   "id": "liable-occurrence",
   "metadata": {},
   "outputs": [
    {
     "data": {
      "text/plain": [
       "(244,)"
      ]
     },
     "execution_count": 6,
     "metadata": {},
     "output_type": "execute_result"
    }
   ],
   "source": [
    "y.shape"
   ]
  },
  {
   "cell_type": "code",
   "execution_count": 7,
   "id": "shared-outside",
   "metadata": {},
   "outputs": [],
   "source": [
    "y=y.reshape(len(y),1)"
   ]
  },
  {
   "cell_type": "code",
   "execution_count": 8,
   "id": "divine-legislature",
   "metadata": {},
   "outputs": [],
   "source": [
    "from sklearn.preprocessing import LabelEncoder\n",
    "s=LabelEncoder() \n",
    "X[:,4] = s.fit_transform(X[:,4])"
   ]
  },
  {
   "cell_type": "code",
   "execution_count": 9,
   "id": "tropical-determination",
   "metadata": {},
   "outputs": [],
   "source": [
    "from sklearn.preprocessing import LabelEncoder\n",
    "s=LabelEncoder()\n",
    "X[:,2] = s.fit_transform(X[:,2])"
   ]
  },
  {
   "cell_type": "code",
   "execution_count": 10,
   "id": "ancient-reference",
   "metadata": {},
   "outputs": [],
   "source": [
    "from sklearn.preprocessing import LabelEncoder\n",
    "s=LabelEncoder()\n",
    "X[:,3] = s.fit_transform(X[:,3])"
   ]
  },
  {
   "cell_type": "code",
   "execution_count": 11,
   "id": "responsible-macro",
   "metadata": {},
   "outputs": [],
   "source": [
    "from sklearn.preprocessing import LabelEncoder\n",
    "s=LabelEncoder()\n",
    "X[:,5] = s.fit_transform(X[:,5])"
   ]
  },
  {
   "cell_type": "code",
   "execution_count": 12,
   "id": "violent-calendar",
   "metadata": {},
   "outputs": [
    {
     "data": {
      "text/plain": [
       "array([[16.99, 1.01, 0, 0, 2, 0],\n",
       "       [10.34, 1.66, 1, 0, 2, 0],\n",
       "       [21.01, 3.5, 1, 0, 2, 0],\n",
       "       ...,\n",
       "       [22.67, 2.0, 1, 1, 1, 0],\n",
       "       [17.82, 1.75, 1, 0, 1, 0],\n",
       "       [18.78, 3.0, 0, 0, 3, 0]], dtype=object)"
      ]
     },
     "execution_count": 12,
     "metadata": {},
     "output_type": "execute_result"
    }
   ],
   "source": [
    "X"
   ]
  },
  {
   "cell_type": "code",
   "execution_count": 13,
   "id": "religious-optimization",
   "metadata": {},
   "outputs": [],
   "source": [
    "from sklearn.preprocessing import StandardScaler\n",
    "sc_X = StandardScaler()\n",
    "sc_y = StandardScaler()\n",
    "X = sc_X.fit_transform(X)\n",
    "y = sc_y.fit_transform(y)\n"
   ]
  },
  {
   "cell_type": "code",
   "execution_count": 14,
   "id": "played-hypothesis",
   "metadata": {},
   "outputs": [
    {
     "data": {
      "text/plain": [
       "array([[-3.14711305e-01, -1.43994695e+00, -1.34335316e+00,\n",
       "        -7.84789169e-01,  2.79157595e-01, -6.21581561e-01],\n",
       "       [-1.06323531e+00, -9.69205340e-01,  7.44405889e-01,\n",
       "        -7.84789169e-01,  2.79157595e-01, -6.21581561e-01],\n",
       "       [ 1.37779900e-01,  3.63355539e-01,  7.44405889e-01,\n",
       "        -7.84789169e-01,  2.79157595e-01, -6.21581561e-01],\n",
       "       ...,\n",
       "       [ 3.24629502e-01, -7.22971264e-01,  7.44405889e-01,\n",
       "         1.27422758e+00, -8.02024201e-01, -6.21581561e-01],\n",
       "       [-2.21286504e-01, -9.04025732e-01,  7.44405889e-01,\n",
       "        -7.84789169e-01, -8.02024201e-01, -6.21581561e-01],\n",
       "       [-1.13228903e-01,  1.24660453e-03, -1.34335316e+00,\n",
       "        -7.84789169e-01,  1.36033939e+00, -6.21581561e-01]])"
      ]
     },
     "execution_count": 14,
     "metadata": {},
     "output_type": "execute_result"
    }
   ],
   "source": [
    "X"
   ]
  },
  {
   "cell_type": "code",
   "execution_count": 15,
   "id": "endless-minnesota",
   "metadata": {
    "scrolled": true
   },
   "outputs": [
    {
     "data": {
      "text/plain": [
       "array([[-0.60019263],\n",
       "       [ 0.45338292],\n",
       "       [ 0.45338292],\n",
       "       [-0.60019263],\n",
       "       [ 1.50695847],\n",
       "       [ 1.50695847],\n",
       "       [-0.60019263],\n",
       "       [ 1.50695847],\n",
       "       [-0.60019263],\n",
       "       [-0.60019263],\n",
       "       [-0.60019263],\n",
       "       [ 1.50695847],\n",
       "       [-0.60019263],\n",
       "       [ 1.50695847],\n",
       "       [-0.60019263],\n",
       "       [-0.60019263],\n",
       "       [ 0.45338292],\n",
       "       [ 0.45338292],\n",
       "       [ 0.45338292],\n",
       "       [ 0.45338292],\n",
       "       [-0.60019263],\n",
       "       [-0.60019263],\n",
       "       [-0.60019263],\n",
       "       [ 1.50695847],\n",
       "       [-0.60019263],\n",
       "       [ 1.50695847],\n",
       "       [-0.60019263],\n",
       "       [-0.60019263],\n",
       "       [-0.60019263],\n",
       "       [-0.60019263],\n",
       "       [-0.60019263],\n",
       "       [ 1.50695847],\n",
       "       [-0.60019263],\n",
       "       [ 1.50695847],\n",
       "       [-0.60019263],\n",
       "       [ 0.45338292],\n",
       "       [ 0.45338292],\n",
       "       [ 0.45338292],\n",
       "       [ 0.45338292],\n",
       "       [ 0.45338292],\n",
       "       [ 0.45338292],\n",
       "       [-0.60019263],\n",
       "       [-0.60019263],\n",
       "       [-0.60019263],\n",
       "       [ 1.50695847],\n",
       "       [-0.60019263],\n",
       "       [-0.60019263],\n",
       "       [ 1.50695847],\n",
       "       [ 0.45338292],\n",
       "       [-0.60019263],\n",
       "       [-0.60019263],\n",
       "       [-0.60019263],\n",
       "       [ 1.50695847],\n",
       "       [-0.60019263],\n",
       "       [ 1.50695847],\n",
       "       [-0.60019263],\n",
       "       [ 1.50695847],\n",
       "       [-0.60019263],\n",
       "       [-0.60019263],\n",
       "       [ 1.50695847],\n",
       "       [-0.60019263],\n",
       "       [-0.60019263],\n",
       "       [-0.60019263],\n",
       "       [ 1.50695847],\n",
       "       [ 0.45338292],\n",
       "       [ 0.45338292],\n",
       "       [-0.60019263],\n",
       "       [-1.65376818],\n",
       "       [-0.60019263],\n",
       "       [-0.60019263],\n",
       "       [-0.60019263],\n",
       "       [ 0.45338292],\n",
       "       [-0.60019263],\n",
       "       [-0.60019263],\n",
       "       [-0.60019263],\n",
       "       [-0.60019263],\n",
       "       [-0.60019263],\n",
       "       [ 1.50695847],\n",
       "       [-0.60019263],\n",
       "       [-0.60019263],\n",
       "       [-0.60019263],\n",
       "       [-0.60019263],\n",
       "       [-1.65376818],\n",
       "       [-0.60019263],\n",
       "       [-0.60019263],\n",
       "       [ 1.50695847],\n",
       "       [-0.60019263],\n",
       "       [-0.60019263],\n",
       "       [-0.60019263],\n",
       "       [-0.60019263],\n",
       "       [-0.60019263],\n",
       "       [-0.60019263],\n",
       "       [-0.60019263],\n",
       "       [-0.60019263],\n",
       "       [-0.60019263],\n",
       "       [ 1.50695847],\n",
       "       [-0.60019263],\n",
       "       [-0.60019263],\n",
       "       [-0.60019263],\n",
       "       [-0.60019263],\n",
       "       [-0.60019263],\n",
       "       [-0.60019263],\n",
       "       [ 0.45338292],\n",
       "       [-0.60019263],\n",
       "       [-0.60019263],\n",
       "       [-0.60019263],\n",
       "       [-0.60019263],\n",
       "       [-0.60019263],\n",
       "       [-0.60019263],\n",
       "       [-0.60019263],\n",
       "       [-0.60019263],\n",
       "       [-1.65376818],\n",
       "       [ 0.45338292],\n",
       "       [-0.60019263],\n",
       "       [ 0.45338292],\n",
       "       [-0.60019263],\n",
       "       [ 1.50695847],\n",
       "       [-0.60019263],\n",
       "       [-0.60019263],\n",
       "       [ 1.50695847],\n",
       "       [-0.60019263],\n",
       "       [-0.60019263],\n",
       "       [-0.60019263],\n",
       "       [-0.60019263],\n",
       "       [-0.60019263],\n",
       "       [ 3.61410957],\n",
       "       [-0.60019263],\n",
       "       [-0.60019263],\n",
       "       [-0.60019263],\n",
       "       [ 0.45338292],\n",
       "       [-0.60019263],\n",
       "       [-0.60019263],\n",
       "       [-0.60019263],\n",
       "       [-0.60019263],\n",
       "       [-0.60019263],\n",
       "       [-0.60019263],\n",
       "       [-0.60019263],\n",
       "       [-0.60019263],\n",
       "       [-0.60019263],\n",
       "       [-0.60019263],\n",
       "       [-0.60019263],\n",
       "       [ 3.61410957],\n",
       "       [ 2.56053402],\n",
       "       [ 3.61410957],\n",
       "       [-0.60019263],\n",
       "       [-0.60019263],\n",
       "       [ 0.45338292],\n",
       "       [-0.60019263],\n",
       "       [-0.60019263],\n",
       "       [-0.60019263],\n",
       "       [-0.60019263],\n",
       "       [-0.60019263],\n",
       "       [ 0.45338292],\n",
       "       [ 1.50695847],\n",
       "       [ 1.50695847],\n",
       "       [ 2.56053402],\n",
       "       [ 3.61410957],\n",
       "       [ 1.50695847],\n",
       "       [-0.60019263],\n",
       "       [ 1.50695847],\n",
       "       [ 1.50695847],\n",
       "       [-0.60019263],\n",
       "       [ 0.45338292],\n",
       "       [-0.60019263],\n",
       "       [-0.60019263],\n",
       "       [ 0.45338292],\n",
       "       [-0.60019263],\n",
       "       [ 1.50695847],\n",
       "       [-0.60019263],\n",
       "       [-0.60019263],\n",
       "       [ 0.45338292],\n",
       "       [-0.60019263],\n",
       "       [-0.60019263],\n",
       "       [-0.60019263],\n",
       "       [-0.60019263],\n",
       "       [-0.60019263],\n",
       "       [-0.60019263],\n",
       "       [-0.60019263],\n",
       "       [-0.60019263],\n",
       "       [-0.60019263],\n",
       "       [ 1.50695847],\n",
       "       [-0.60019263],\n",
       "       [ 0.45338292],\n",
       "       [ 1.50695847],\n",
       "       [-0.60019263],\n",
       "       [ 2.56053402],\n",
       "       [ 0.45338292],\n",
       "       [ 2.56053402],\n",
       "       [ 0.45338292],\n",
       "       [ 0.45338292],\n",
       "       [-0.60019263],\n",
       "       [-0.60019263],\n",
       "       [-0.60019263],\n",
       "       [-0.60019263],\n",
       "       [-0.60019263],\n",
       "       [-0.60019263],\n",
       "       [-0.60019263],\n",
       "       [ 1.50695847],\n",
       "       [-0.60019263],\n",
       "       [-0.60019263],\n",
       "       [ 0.45338292],\n",
       "       [-0.60019263],\n",
       "       [-0.60019263],\n",
       "       [-0.60019263],\n",
       "       [ 1.50695847],\n",
       "       [ 0.45338292],\n",
       "       [ 0.45338292],\n",
       "       [ 1.50695847],\n",
       "       [-0.60019263],\n",
       "       [-0.60019263],\n",
       "       [ 0.45338292],\n",
       "       [ 1.50695847],\n",
       "       [ 1.50695847],\n",
       "       [-0.60019263],\n",
       "       [ 0.45338292],\n",
       "       [-0.60019263],\n",
       "       [ 2.56053402],\n",
       "       [-0.60019263],\n",
       "       [-0.60019263],\n",
       "       [ 1.50695847],\n",
       "       [-0.60019263],\n",
       "       [-0.60019263],\n",
       "       [-1.65376818],\n",
       "       [ 0.45338292],\n",
       "       [-0.60019263],\n",
       "       [-0.60019263],\n",
       "       [-0.60019263],\n",
       "       [ 1.50695847],\n",
       "       [-0.60019263],\n",
       "       [-0.60019263],\n",
       "       [ 1.50695847],\n",
       "       [ 0.45338292],\n",
       "       [-0.60019263],\n",
       "       [-0.60019263],\n",
       "       [-0.60019263],\n",
       "       [-0.60019263],\n",
       "       [-0.60019263],\n",
       "       [-0.60019263],\n",
       "       [ 0.45338292],\n",
       "       [ 0.45338292],\n",
       "       [-0.60019263],\n",
       "       [-0.60019263],\n",
       "       [-0.60019263],\n",
       "       [-0.60019263]])"
      ]
     },
     "execution_count": 15,
     "metadata": {},
     "output_type": "execute_result"
    }
   ],
   "source": [
    "y"
   ]
  },
  {
   "cell_type": "code",
   "execution_count": 16,
   "id": "impaired-belgium",
   "metadata": {},
   "outputs": [
    {
     "data": {
      "text/plain": [
       "(244, 1)"
      ]
     },
     "execution_count": 16,
     "metadata": {},
     "output_type": "execute_result"
    }
   ],
   "source": [
    "y.shape"
   ]
  },
  {
   "cell_type": "code",
   "execution_count": 17,
   "id": "legal-knight",
   "metadata": {},
   "outputs": [],
   "source": [
    "from sklearn.model_selection import train_test_split\n",
    "X_train, X_test, y_train, y_test = train_test_split(X, y, test_size = 0.25, random_state = 0)"
   ]
  },
  {
   "cell_type": "code",
   "execution_count": 18,
   "id": "chubby-patrick",
   "metadata": {},
   "outputs": [
    {
     "data": {
      "text/plain": [
       "DecisionTreeRegressor(random_state=0)"
      ]
     },
     "execution_count": 18,
     "metadata": {},
     "output_type": "execute_result"
    }
   ],
   "source": [
    "from sklearn.tree import DecisionTreeRegressor\n",
    "regressor = DecisionTreeRegressor(random_state = 0)\n",
    "regressor.fit(X_train, y_train)"
   ]
  },
  {
   "cell_type": "code",
   "execution_count": 19,
   "id": "hindu-deficit",
   "metadata": {},
   "outputs": [
    {
     "data": {
      "text/plain": [
       "(61, 1)"
      ]
     },
     "execution_count": 19,
     "metadata": {},
     "output_type": "execute_result"
    }
   ],
   "source": [
    "y_test.shape"
   ]
  },
  {
   "cell_type": "code",
   "execution_count": 20,
   "id": "understanding-moderator",
   "metadata": {},
   "outputs": [
    {
     "name": "stdout",
     "output_type": "stream",
     "text": [
      "(61, 1)\n"
     ]
    },
    {
     "data": {
      "text/plain": [
       "array([[-0.60019263,  0.45338292],\n",
       "       [-0.60019263,  1.50695847],\n",
       "       [-0.60019263, -0.60019263],\n",
       "       [-0.60019263, -1.65376818],\n",
       "       [-0.60019263, -0.60019263],\n",
       "       [-0.60019263, -0.60019263],\n",
       "       [-0.60019263, -0.60019263],\n",
       "       [ 1.50695847, -0.60019263],\n",
       "       [ 0.45338292,  0.45338292],\n",
       "       [ 1.50695847,  1.50695847],\n",
       "       [ 1.50695847, -0.60019263],\n",
       "       [ 1.50695847, -0.60019263],\n",
       "       [-0.60019263, -0.60019263],\n",
       "       [-0.60019263, -0.60019263],\n",
       "       [-0.60019263, -0.60019263],\n",
       "       [ 0.45338292,  1.50695847],\n",
       "       [-0.60019263, -0.60019263],\n",
       "       [-0.60019263, -0.60019263],\n",
       "       [-0.60019263, -0.60019263],\n",
       "       [-0.60019263,  0.45338292],\n",
       "       [ 2.56053402,  0.45338292],\n",
       "       [-0.60019263, -0.60019263],\n",
       "       [-0.60019263, -0.60019263],\n",
       "       [-0.60019263, -0.60019263],\n",
       "       [-0.60019263, -0.60019263],\n",
       "       [-0.60019263, -0.60019263],\n",
       "       [-0.60019263, -0.60019263],\n",
       "       [ 1.50695847,  3.61410957],\n",
       "       [ 1.50695847,  1.50695847],\n",
       "       [-0.60019263, -0.60019263],\n",
       "       [-0.60019263, -0.60019263],\n",
       "       [-0.60019263, -0.60019263],\n",
       "       [-0.60019263, -0.60019263],\n",
       "       [-0.60019263, -0.60019263],\n",
       "       [ 1.50695847, -0.60019263],\n",
       "       [-0.60019263, -0.60019263],\n",
       "       [-0.60019263,  0.45338292],\n",
       "       [-0.60019263, -0.60019263],\n",
       "       [ 0.45338292,  1.50695847],\n",
       "       [-0.60019263,  0.45338292],\n",
       "       [-0.60019263, -1.65376818],\n",
       "       [-0.60019263, -0.60019263],\n",
       "       [-0.60019263,  0.45338292],\n",
       "       [ 0.45338292,  2.56053402],\n",
       "       [-0.60019263, -0.60019263],\n",
       "       [-0.60019263,  0.45338292],\n",
       "       [-0.60019263, -0.60019263],\n",
       "       [ 1.50695847, -0.60019263],\n",
       "       [-0.60019263,  0.45338292],\n",
       "       [-0.60019263,  1.50695847],\n",
       "       [ 2.56053402, -0.60019263],\n",
       "       [-0.60019263, -0.60019263],\n",
       "       [-0.60019263, -0.60019263],\n",
       "       [ 1.50695847,  3.61410957],\n",
       "       [-1.65376818, -0.60019263],\n",
       "       [-0.60019263, -0.60019263],\n",
       "       [ 0.45338292,  1.50695847],\n",
       "       [-0.60019263,  1.50695847],\n",
       "       [-0.60019263, -0.60019263],\n",
       "       [-0.60019263, -0.60019263],\n",
       "       [ 0.45338292, -0.60019263]])"
      ]
     },
     "execution_count": 20,
     "metadata": {},
     "output_type": "execute_result"
    }
   ],
   "source": [
    "y_pred = regressor.predict(X_test)\n",
    "y_pred=y_pred.reshape(len(y_pred),1)\n",
    "print(y_pred.shape)\n",
    "np.concatenate((y_pred, y_test),axis=1)"
   ]
  },
  {
   "cell_type": "code",
   "execution_count": 21,
   "id": "convenient-mediterranean",
   "metadata": {},
   "outputs": [],
   "source": [
    "from sklearn.metrics import mean_squared_error\n",
    "rms = mean_squared_error(y_test,y_pred , squared=False)"
   ]
  },
  {
   "cell_type": "code",
   "execution_count": 22,
   "id": "metallic-hacker",
   "metadata": {},
   "outputs": [
    {
     "data": {
      "text/plain": [
       "1.1366583344578263"
      ]
     },
     "execution_count": 22,
     "metadata": {},
     "output_type": "execute_result"
    }
   ],
   "source": [
    "rms"
   ]
  },
  {
   "cell_type": "code",
   "execution_count": 23,
   "id": "ranging-orientation",
   "metadata": {
    "scrolled": true
   },
   "outputs": [
    {
     "name": "stdout",
     "output_type": "stream",
     "text": [
      "1.4654510370979401\n"
     ]
    },
    {
     "data": {
      "text/plain": [
       "count    244.000000\n",
       "mean       2.998279\n",
       "std        1.383638\n",
       "min        1.000000\n",
       "25%        2.000000\n",
       "50%        2.900000\n",
       "75%        3.562500\n",
       "max       10.000000\n",
       "Name: tip, dtype: float64"
      ]
     },
     "execution_count": 23,
     "metadata": {},
     "output_type": "execute_result"
    }
   ],
   "source": [
    "print(df['tip'].skew())\n",
    "df['tip'].describe()"
   ]
  },
  {
   "cell_type": "code",
   "execution_count": 24,
   "id": "sweet-credit",
   "metadata": {},
   "outputs": [
    {
     "data": {
      "text/plain": [
       "<AxesSubplot:xlabel='size'>"
      ]
     },
     "execution_count": 24,
     "metadata": {},
     "output_type": "execute_result"
    },
    {
     "data": {
      "image/png": "[encoded data removed]",
      "text/plain": [
       "<Figure size 432x288 with 1 Axes>"
      ]
     },
     "metadata": {
      "needs_background": "light"
     },
     "output_type": "display_data"
    }
   ],
   "source": [
    "sns.boxplot(x=df['size'])\n"
   ]
  },
  {
   "cell_type": "code",
   "execution_count": 25,
   "id": "paperback-publicity",
   "metadata": {},
   "outputs": [
    {
     "data": {
      "text/plain": [
       "<AxesSubplot:xlabel='sex', ylabel='total_bill'>"
      ]
     },
     "execution_count": 25,
     "metadata": {},
     "output_type": "execute_result"
    },
    {
     "data": {
      "image/png": "[encoded data removed]",
      "text/plain": [
       "<Figure size 432x288 with 1 Axes>"
      ]
     },
     "metadata": {
      "needs_background": "light"
     },
     "output_type": "display_data"
    }
   ],
   "source": [
    "sns.boxplot(x='sex',y='total_bill',data=df)"
   ]
  },
  {
   "cell_type": "code",
   "execution_count": 26,
   "id": "central-secret",
   "metadata": {},
   "outputs": [
    {
     "data": {
      "image/png": "[encoded data removed]",
      "text/plain": [
       "<Figure size 432x288 with 1 Axes>"
      ]
     },
     "metadata": {
      "needs_background": "light"
     },
     "output_type": "display_data"
    }
   ],
   "source": [
    "ax = sns.boxplot(x=\"day\", y=\"total_bill\", hue=\"smoker\",\n",
    "                 data=df)"
   ]
  },
  {
   "cell_type": "code",
   "execution_count": 27,
   "id": "colored-request",
   "metadata": {},
   "outputs": [
    {
     "data": {
      "image/png": "[encoded data removed]",
      "text/plain": [
       "<Figure size 432x288 with 1 Axes>"
      ]
     },
     "metadata": {
      "needs_background": "light"
     },
     "output_type": "display_data"
    }
   ],
   "source": [
    "ax = sns.boxplot(x=\"day\", y=\"total_bill\", hue=\"time\",\n",
    "                 data=df)"
   ]
  },
  {
   "cell_type": "code",
   "execution_count": 28,
   "id": "engaging-delay",
   "metadata": {},
   "outputs": [
    {
     "data": {
      "text/plain": [
       "<AxesSubplot:xlabel='time', ylabel='tip'>"
      ]
     },
     "execution_count": 28,
     "metadata": {},
     "output_type": "execute_result"
    },
    {
     "data": {
      "image/png": "[encoded data removed]",
      "text/plain": [
       "<Figure size 432x288 with 1 Axes>"
      ]
     },
     "metadata": {
      "needs_background": "light"
     },
     "output_type": "display_data"
    }
   ],
   "source": [
    " sns.boxplot(x=\"time\", y=\"tip\", data=df,\n",
    "                 order=[\"Dinner\", \"Lunch\"])"
   ]
  },
  {
   "cell_type": "code",
   "execution_count": 29,
   "id": "focused-arthritis",
   "metadata": {},
   "outputs": [
    {
     "name": "stdout",
     "output_type": "stream",
     "text": [
      "1.5\n",
      "5.0\n",
      "1.4654510370979401\n"
     ]
    }
   ],
   "source": [
    "print(df['tip'].quantile(0.10))\n",
    "print(df['tip'].quantile(0.90))\n",
    "print(df['tip'].skew())"
   ]
  },
  {
   "cell_type": "code",
   "execution_count": 30,
   "id": "alike-cathedral",
   "metadata": {},
   "outputs": [],
   "source": [
    "df[\"tip\"] = np.where(df[\"tip\"] <1.5, 1.5,df['tip'])\n",
    "df[\"tip\"] = np.where(df[\"tip\"] >5, 5,df['tip'])"
   ]
  },
  {
   "cell_type": "code",
   "execution_count": 31,
   "id": "strategic-giant",
   "metadata": {},
   "outputs": [
    {
     "name": "stdout",
     "output_type": "stream",
     "text": [
      "10.34\n",
      "32.23500000000001\n",
      "1.1332130376158205\n"
     ]
    }
   ],
   "source": [
    "print(df['total_bill'].quantile(0.10))\n",
    "print(df['total_bill'].quantile(0.90))\n",
    "print(df['total_bill'].skew())"
   ]
  },
  {
   "cell_type": "code",
   "execution_count": 32,
   "id": "german-looking",
   "metadata": {},
   "outputs": [],
   "source": [
    "df[\"total_bill\"] = np.where(df[\"total_bill\"] <10.34, 10.34,df['total_bill'])\n",
    "df[\"total_bill\"] = np.where(df[\"total_bill\"] >25.67, 25.67,df['total_bill'])"
   ]
  },
  {
   "cell_type": "code",
   "execution_count": 33,
   "id": "naval-spanking",
   "metadata": {},
   "outputs": [
    {
     "data": {
      "text/html": [
       "<div>\n",
       "<style scoped>\n",
       "    .dataframe tbody tr th:only-of-type {\n",
       "        vertical-align: middle;\n",
       "    }\n",
       "\n",
       "    .dataframe tbody tr th {\n",
       "        vertical-align: top;\n",
       "    }\n",
       "\n",
       "    .dataframe thead th {\n",
       "        text-align: right;\n",
       "    }\n",
       "</style>\n",
       "<table border=\"1\" class=\"dataframe\">\n",
       "  <thead>\n",
       "    <tr style=\"text-align: right;\">\n",
       "      <th></th>\n",
       "      <th>total_bill</th>\n",
       "      <th>tip</th>\n",
       "      <th>sex</th>\n",
       "      <th>smoker</th>\n",
       "      <th>day</th>\n",
       "      <th>time</th>\n",
       "      <th>size</th>\n",
       "    </tr>\n",
       "  </thead>\n",
       "  <tbody>\n",
       "    <tr>\n",
       "      <th>0</th>\n",
       "      <td>16.99</td>\n",
       "      <td>1.50</td>\n",
       "      <td>Female</td>\n",
       "      <td>No</td>\n",
       "      <td>Sun</td>\n",
       "      <td>Dinner</td>\n",
       "      <td>2</td>\n",
       "    </tr>\n",
       "    <tr>\n",
       "      <th>1</th>\n",
       "      <td>10.34</td>\n",
       "      <td>1.66</td>\n",
       "      <td>Male</td>\n",
       "      <td>No</td>\n",
       "      <td>Sun</td>\n",
       "      <td>Dinner</td>\n",
       "      <td>3</td>\n",
       "    </tr>\n",
       "    <tr>\n",
       "      <th>2</th>\n",
       "      <td>21.01</td>\n",
       "      <td>3.50</td>\n",
       "      <td>Male</td>\n",
       "      <td>No</td>\n",
       "      <td>Sun</td>\n",
       "      <td>Dinner</td>\n",
       "      <td>3</td>\n",
       "    </tr>\n",
       "    <tr>\n",
       "      <th>3</th>\n",
       "      <td>23.68</td>\n",
       "      <td>3.31</td>\n",
       "      <td>Male</td>\n",
       "      <td>No</td>\n",
       "      <td>Sun</td>\n",
       "      <td>Dinner</td>\n",
       "      <td>2</td>\n",
       "    </tr>\n",
       "    <tr>\n",
       "      <th>4</th>\n",
       "      <td>24.59</td>\n",
       "      <td>3.61</td>\n",
       "      <td>Female</td>\n",
       "      <td>No</td>\n",
       "      <td>Sun</td>\n",
       "      <td>Dinner</td>\n",
       "      <td>4</td>\n",
       "    </tr>\n",
       "    <tr>\n",
       "      <th>...</th>\n",
       "      <td>...</td>\n",
       "      <td>...</td>\n",
       "      <td>...</td>\n",
       "      <td>...</td>\n",
       "      <td>...</td>\n",
       "      <td>...</td>\n",
       "      <td>...</td>\n",
       "    </tr>\n",
       "    <tr>\n",
       "      <th>239</th>\n",
       "      <td>25.67</td>\n",
       "      <td>5.00</td>\n",
       "      <td>Male</td>\n",
       "      <td>No</td>\n",
       "      <td>Sat</td>\n",
       "      <td>Dinner</td>\n",
       "      <td>3</td>\n",
       "    </tr>\n",
       "    <tr>\n",
       "      <th>240</th>\n",
       "      <td>25.67</td>\n",
       "      <td>2.00</td>\n",
       "      <td>Female</td>\n",
       "      <td>Yes</td>\n",
       "      <td>Sat</td>\n",
       "      <td>Dinner</td>\n",
       "      <td>2</td>\n",
       "    </tr>\n",
       "    <tr>\n",
       "      <th>241</th>\n",
       "      <td>22.67</td>\n",
       "      <td>2.00</td>\n",
       "      <td>Male</td>\n",
       "      <td>Yes</td>\n",
       "      <td>Sat</td>\n",
       "      <td>Dinner</td>\n",
       "      <td>2</td>\n",
       "    </tr>\n",
       "    <tr>\n",
       "      <th>242</th>\n",
       "      <td>17.82</td>\n",
       "      <td>1.75</td>\n",
       "      <td>Male</td>\n",
       "      <td>No</td>\n",
       "      <td>Sat</td>\n",
       "      <td>Dinner</td>\n",
       "      <td>2</td>\n",
       "    </tr>\n",
       "    <tr>\n",
       "      <th>243</th>\n",
       "      <td>18.78</td>\n",
       "      <td>3.00</td>\n",
       "      <td>Female</td>\n",
       "      <td>No</td>\n",
       "      <td>Thur</td>\n",
       "      <td>Dinner</td>\n",
       "      <td>2</td>\n",
       "    </tr>\n",
       "  </tbody>\n",
       "</table>\n",
       "<p>244 rows × 7 columns</p>\n",
       "</div>"
      ],
      "text/plain": [
       "     total_bill   tip     sex smoker   day    time  size\n",
       "0         16.99  1.50  Female     No   Sun  Dinner     2\n",
       "1         10.34  1.66    Male     No   Sun  Dinner     3\n",
       "2         21.01  3.50    Male     No   Sun  Dinner     3\n",
       "3         23.68  3.31    Male     No   Sun  Dinner     2\n",
       "4         24.59  3.61  Female     No   Sun  Dinner     4\n",
       "..          ...   ...     ...    ...   ...     ...   ...\n",
       "239       25.67  5.00    Male     No   Sat  Dinner     3\n",
       "240       25.67  2.00  Female    Yes   Sat  Dinner     2\n",
       "241       22.67  2.00    Male    Yes   Sat  Dinner     2\n",
       "242       17.82  1.75    Male     No   Sat  Dinner     2\n",
       "243       18.78  3.00  Female     No  Thur  Dinner     2\n",
       "\n",
       "[244 rows x 7 columns]"
      ]
     },
     "execution_count": 33,
     "metadata": {},
     "output_type": "execute_result"
    }
   ],
   "source": [
    "df"
   ]
  },
  {
   "cell_type": "code",
   "execution_count": 34,
   "id": "educated-stick",
   "metadata": {},
   "outputs": [
    {
     "name": "stdout",
     "output_type": "stream",
     "text": [
      "0.5285243151273548\n"
     ]
    }
   ],
   "source": [
    "print(df['tip'].skew())"
   ]
  },
  {
   "cell_type": "code",
   "execution_count": 35,
   "id": "sporting-mirror",
   "metadata": {},
   "outputs": [],
   "source": [
    "X = df.iloc[:, :-1].values\n",
    "y = df[\"size\"].values"
   ]
  },
  {
   "cell_type": "code",
   "execution_count": 36,
   "id": "demanding-requirement",
   "metadata": {},
   "outputs": [],
   "source": [
    "from sklearn.preprocessing import LabelEncoder\n",
    "s=LabelEncoder()\n",
    "X[:,4] = s.fit_transform(X[:,4])"
   ]
  },
  {
   "cell_type": "code",
   "execution_count": 37,
   "id": "ethical-responsibility",
   "metadata": {},
   "outputs": [],
   "source": [
    "from sklearn.preprocessing import LabelEncoder\n",
    "s=LabelEncoder()\n",
    "X[:,2] = s.fit_transform(X[:,2])"
   ]
  },
  {
   "cell_type": "code",
   "execution_count": 38,
   "id": "divided-boundary",
   "metadata": {},
   "outputs": [],
   "source": [
    "from sklearn.preprocessing import LabelEncoder\n",
    "s=LabelEncoder()\n",
    "X[:,3] = s.fit_transform(X[:,3])"
   ]
  },
  {
   "cell_type": "code",
   "execution_count": 39,
   "id": "wanted-liechtenstein",
   "metadata": {},
   "outputs": [],
   "source": [
    "from sklearn.preprocessing import LabelEncoder\n",
    "s=LabelEncoder()\n",
    "X[:,5] = s.fit_transform(X[:,5])"
   ]
  },
  {
   "cell_type": "code",
   "execution_count": 40,
   "id": "indirect-brush",
   "metadata": {},
   "outputs": [],
   "source": [
    "y=y.reshape(len(y),1)"
   ]
  },
  {
   "cell_type": "code",
   "execution_count": 41,
   "id": "normal-lecture",
   "metadata": {},
   "outputs": [],
   "source": [
    "from sklearn.preprocessing import StandardScaler\n",
    "sc_X = StandardScaler()\n",
    "sc_y = StandardScaler()\n",
    "X = sc_X.fit_transform(X)\n",
    "y = sc_y.fit_transform(y)"
   ]
  },
  {
   "cell_type": "code",
   "execution_count": 42,
   "id": "studied-nebraska",
   "metadata": {},
   "outputs": [],
   "source": [
    "from sklearn.model_selection import train_test_split\n",
    "X_train, X_test, y_train, y_test = train_test_split(X, y, test_size = 0.25, random_state = 0)\n"
   ]
  },
  {
   "cell_type": "code",
   "execution_count": 43,
   "id": "inner-device",
   "metadata": {},
   "outputs": [
    {
     "data": {
      "text/plain": [
       "DecisionTreeRegressor(random_state=0)"
      ]
     },
     "execution_count": 43,
     "metadata": {},
     "output_type": "execute_result"
    }
   ],
   "source": [
    "from sklearn.tree import DecisionTreeRegressor\n",
    "regressor = DecisionTreeRegressor(random_state = 0)\n",
    "regressor.fit(X_train, y_train)"
   ]
  },
  {
   "cell_type": "code",
   "execution_count": 44,
   "id": "statutory-cover",
   "metadata": {},
   "outputs": [
    {
     "name": "stdout",
     "output_type": "stream",
     "text": [
      "(61, 1)\n"
     ]
    },
    {
     "data": {
      "text/plain": [
       "array([[-0.60019263,  0.45338292],\n",
       "       [-0.60019263,  1.50695847],\n",
       "       [ 0.45338292, -0.60019263],\n",
       "       [-1.65376818, -1.65376818],\n",
       "       [-0.60019263, -0.60019263],\n",
       "       [-1.65376818, -0.60019263],\n",
       "       [-0.60019263, -0.60019263],\n",
       "       [ 1.50695847, -0.60019263],\n",
       "       [ 0.45338292,  0.45338292],\n",
       "       [ 0.45338292,  1.50695847],\n",
       "       [ 1.50695847, -0.60019263],\n",
       "       [ 1.50695847, -0.60019263],\n",
       "       [-0.60019263, -0.60019263],\n",
       "       [-0.60019263, -0.60019263],\n",
       "       [-0.60019263, -0.60019263],\n",
       "       [ 1.50695847,  1.50695847],\n",
       "       [-0.60019263, -0.60019263],\n",
       "       [-0.60019263, -0.60019263],\n",
       "       [-0.60019263, -0.60019263],\n",
       "       [-0.60019263,  0.45338292],\n",
       "       [ 2.56053402,  0.45338292],\n",
       "       [-0.60019263, -0.60019263],\n",
       "       [-0.60019263, -0.60019263],\n",
       "       [-0.60019263, -0.60019263],\n",
       "       [-0.60019263, -0.60019263],\n",
       "       [-0.60019263, -0.60019263],\n",
       "       [-0.60019263, -0.60019263],\n",
       "       [ 1.50695847,  3.61410957],\n",
       "       [ 1.50695847,  1.50695847],\n",
       "       [-0.60019263, -0.60019263],\n",
       "       [-0.60019263, -0.60019263],\n",
       "       [-0.60019263, -0.60019263],\n",
       "       [-0.60019263, -0.60019263],\n",
       "       [-0.60019263, -0.60019263],\n",
       "       [ 1.50695847, -0.60019263],\n",
       "       [-0.60019263, -0.60019263],\n",
       "       [-0.60019263,  0.45338292],\n",
       "       [-0.60019263, -0.60019263],\n",
       "       [ 0.9801707 ,  1.50695847],\n",
       "       [-0.60019263,  0.45338292],\n",
       "       [-0.60019263, -1.65376818],\n",
       "       [-1.65376818, -0.60019263],\n",
       "       [-0.60019263,  0.45338292],\n",
       "       [ 1.50695847,  2.56053402],\n",
       "       [-0.60019263, -0.60019263],\n",
       "       [-0.60019263,  0.45338292],\n",
       "       [-0.60019263, -0.60019263],\n",
       "       [ 1.50695847, -0.60019263],\n",
       "       [-0.60019263,  0.45338292],\n",
       "       [-0.60019263,  1.50695847],\n",
       "       [ 1.50695847, -0.60019263],\n",
       "       [-0.60019263, -0.60019263],\n",
       "       [-0.60019263, -0.60019263],\n",
       "       [ 1.50695847,  3.61410957],\n",
       "       [-0.60019263, -0.60019263],\n",
       "       [-0.60019263, -0.60019263],\n",
       "       [ 1.50695847,  1.50695847],\n",
       "       [-0.60019263,  1.50695847],\n",
       "       [-0.60019263, -0.60019263],\n",
       "       [-0.60019263, -0.60019263],\n",
       "       [ 0.45338292, -0.60019263]])"
      ]
     },
     "execution_count": 44,
     "metadata": {},
     "output_type": "execute_result"
    }
   ],
   "source": [
    "y_pred = regressor.predict(X_test)\n",
    "y_pred=y_pred.reshape(len(y_pred),1)\n",
    "print(y_pred.shape)\n",
    "np.concatenate((y_pred, y_test),axis=1)"
   ]
  },
  {
   "cell_type": "code",
   "execution_count": 45,
   "id": "monetary-result",
   "metadata": {},
   "outputs": [
    {
     "data": {
      "text/plain": [
       "1.0643156403209304"
      ]
     },
     "execution_count": 45,
     "metadata": {},
     "output_type": "execute_result"
    }
   ],
   "source": [
    "from sklearn.metrics import mean_squared_error\n",
    "rms = mean_squared_error(y_test,y_pred , squared=False)\n",
    "rms"
   ]
  },
  {
   "cell_type": "code",
   "execution_count": null,
   "id": "false-engine",
   "metadata": {},
   "outputs": [],
   "source": []
  }
 ],
 "metadata": {
  "kernelspec": {
   "display_name": "Python 3",
   "language": "python",
   "name": "python3"
  },
  "language_info": {
   "codemirror_mode": {
    "name": "ipython",
    "version": 3
   },
   "file_extension": ".py",
   "mimetype": "text/x-python",
   "name": "python",
   "nbconvert_exporter": "python",
   "pygments_lexer": "ipython3",
   "version": "3.9.2"
  }
 },
 "nbformat": 4,
 "nbformat_minor": 5
}
